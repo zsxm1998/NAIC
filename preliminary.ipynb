{
 "cells": [
  {
   "cell_type": "code",
   "execution_count": null,
   "id": "e0ce293e",
   "metadata": {},
   "outputs": [],
   "source": [
    "import os\n",
    "import numpy as np\n",
    "import torch\n",
    "from collections import OrderedDict\n",
    "import json\n",
    "from models.mlp import MLP_MoCo\n",
    "from tqdm import tqdm\n",
    "\n",
    "os.environ['CUDA_VISIBLE_DEVICES'] = '0'\n",
    "device = torch.device('cuda:0' if torch.cuda.is_available() else 'cpu')\n",
    "#device = torch.device('cpu')"
   ]
  },
  {
   "cell_type": "code",
   "execution_count": null,
   "id": "88da7aec",
   "metadata": {},
   "outputs": [],
   "source": [
    "query_feature_A_dir = '/nfs3-p2/zsxm/naic/preliminary/test_A/query_feature_A'\n",
    "gallery_feature_A_dir = '/nfs3-p2/zsxm/naic/preliminary/test_A/gallery_feature_A'\n",
    "train_feature_dir = '/nfs3-p1/zsxm/naic/preliminary/train/train_feature'"
   ]
  },
  {
   "cell_type": "code",
   "execution_count": null,
   "id": "ca844334",
   "metadata": {},
   "outputs": [],
   "source": [
    "query_feature_A = []\n",
    "for data in sorted(os.listdir(query_feature_A_dir)):\n",
    "    query_feature_A.append(torch.from_numpy(np.fromfile(os.path.join(query_feature_A_dir, data), dtype='<f4')))\n",
    "query_feature_A = torch.stack(query_feature_A)"
   ]
  },
  {
   "cell_type": "code",
   "execution_count": null,
   "id": "84b309e1",
   "metadata": {},
   "outputs": [],
   "source": [
    "gallery_feature_A = []\n",
    "for data in sorted(os.listdir(gallery_feature_A_dir)):\n",
    "    gallery_feature_A.append(torch.from_numpy(np.fromfile(os.path.join(gallery_feature_A_dir, data), dtype='<f4')))\n",
    "gallery_feature_A = torch.stack(gallery_feature_A)"
   ]
  },
  {
   "cell_type": "code",
   "execution_count": null,
   "id": "c046755c",
   "metadata": {},
   "outputs": [],
   "source": [
    "print(query_feature_A.shape, query_feature_A)\n",
    "print(gallery_feature_A.shape, gallery_feature_A)\n",
    "torch.save(query_feature_A, '/nfs3-p2/zsxm/naic/preliminary/test_A/query_feature_A.pt')\n",
    "torch.save(gallery_feature_A, '/nfs3-p2/zsxm/naic/preliminary/test_A/gallery_feature_A.pt')"
   ]
  },
  {
   "cell_type": "code",
   "execution_count": null,
   "id": "991d2ffd",
   "metadata": {},
   "outputs": [],
   "source": [
    "train_feature = []\n",
    "for data in sorted(os.listdir(train_feature_dir)):\n",
    "    train_feature.append(torch.from_numpy(np.fromfile(os.path.join(train_feature_dir, data), dtype='<f4')))\n",
    "train_feature = torch.stack(train_feature)\n",
    "print(train_feature.shape)\n",
    "torch.save(train_feature, '/nfs3-p1/zsxm/naic/preliminary/train/train_feature.pt')"
   ]
  },
  {
   "cell_type": "code",
   "execution_count": null,
   "id": "7cd0eca6",
   "metadata": {},
   "outputs": [],
   "source": [
    "query_feature_A = torch.load('/nfs3-p2/zsxm/naic/preliminary/test_A/query_feature_A.pt')\n",
    "gallery_feature_A = torch.load('/nfs3-p2/zsxm/naic/preliminary/test_A/gallery_feature_A.pt')\n",
    "train_feature = torch.load('/nfs3-p1/zsxm/naic/preliminary/train/train_feature.pt')\n",
    "print(query_feature_A.shape, query_feature_A)\n",
    "print(gallery_feature_A.shape, gallery_feature_A)\n",
    "print(train_feature.shape, train_feature)"
   ]
  },
  {
   "cell_type": "code",
   "execution_count": null,
   "id": "08a67a6e",
   "metadata": {},
   "outputs": [],
   "source": [
    "query_feature_A = query_feature_A.to(device)\n",
    "gallery_feature_A = gallery_feature_A.to(device)\n",
    "train_feature = train_feature.to(device)"
   ]
  },
  {
   "cell_type": "code",
   "execution_count": null,
   "id": "030cb8be",
   "metadata": {},
   "outputs": [],
   "source": [
    "def cos_similarity(q, k):\n",
    "    try:\n",
    "        mm = torch.mm(q, k.T)\n",
    "        qn = torch.linalg.vector_norm(q, dim=1, keepdim=True)\n",
    "        kn = torch.linalg.vector_norm(k, dim=1, keepdim=True)\n",
    "        qk = torch.mm(qn, kn.T)\n",
    "        res = mm / qk\n",
    "    except RuntimeError:\n",
    "        q = q.cpu()\n",
    "        k = k.cpu()\n",
    "        mm = torch.mm(q, k.T)\n",
    "        qn = torch.linalg.vector_norm(q, dim=1, keepdim=True)\n",
    "        kn = torch.linalg.vector_norm(k, dim=1, keepdim=True)\n",
    "        qk = torch.mm(qn, kn.T)\n",
    "        res = mm / qk\n",
    "    return res"
   ]
  },
  {
   "cell_type": "code",
   "execution_count": null,
   "id": "291df547",
   "metadata": {},
   "outputs": [],
   "source": [
    "def cos_similarity(q, k):\n",
    "    try:\n",
    "        q = torch.nn.functional.normalize(q, dim=1)\n",
    "        k = torch.nn.functional.normalize(k, dim=1)\n",
    "        res = torch.mm(q, k.T)\n",
    "    except RuntimeError:\n",
    "        q = q.cpu()\n",
    "        k = k.cpu()\n",
    "        q = torch.nn.functional.normalize(q, dim=1)\n",
    "        k = torch.nn.functional.normalize(k, dim=1)\n",
    "        res = torch.mm(q, k.T)\n",
    "    return res"
   ]
  },
  {
   "cell_type": "code",
   "execution_count": null,
   "id": "0a8c80ce",
   "metadata": {},
   "outputs": [],
   "source": [
    "@torch.no_grad()\n",
    "def batch_cos(q, k, batch_size=2048):\n",
    "    res = []\n",
    "    for i in tqdm(range(0, q.shape[0], batch_size)):\n",
    "        bres = cos_similarity(q[i:i+batch_size], k)\n",
    "        res.append(bres)\n",
    "    return torch.cat(res)"
   ]
  },
  {
   "cell_type": "code",
   "execution_count": null,
   "id": "1748faf8",
   "metadata": {},
   "outputs": [],
   "source": [
    "res = batch_cos(query_feature_A, gallery_feature_A)\n",
    "print(res.shape)"
   ]
  },
  {
   "cell_type": "code",
   "execution_count": null,
   "id": "98483ef1",
   "metadata": {},
   "outputs": [],
   "source": [
    "net = MLP_MoCo()\n",
    "net.load_state_dict(torch.load('.details/checkpoints/MLP/01-11_11:48:10/Net_best.pth', map_location=device))\n",
    "net.to(device)\n",
    "net = net.encoder_q#.encoder\n",
    "net.eval()\n",
    "print('')"
   ]
  },
  {
   "cell_type": "code",
   "execution_count": null,
   "id": "bb136e36",
   "metadata": {},
   "outputs": [],
   "source": [
    "@torch.no_grad()\n",
    "def encode(net, data, batch_size=2048):\n",
    "    res, rcons = [], []\n",
    "    for i in tqdm(range(0, data.shape[0], batch_size)):\n",
    "        brcons, bres = net(data[i:i+batch_size])\n",
    "        res.append(bres)\n",
    "        rcons.append(brcons)\n",
    "    return torch.cat(res), torch.cat(rcons)"
   ]
  },
  {
   "cell_type": "code",
   "execution_count": null,
   "id": "dbbf8658",
   "metadata": {},
   "outputs": [],
   "source": [
    "query_code_A, query_recons_A = encode(net, query_feature_A)\n",
    "gallery_code_A, gallery_recons_A = encode(net, gallery_feature_A)"
   ]
  },
  {
   "cell_type": "code",
   "execution_count": null,
   "id": "c80c5a64",
   "metadata": {},
   "outputs": [],
   "source": [
    "print(query_code_A.shape, query_recons_A.shape)\n",
    "print(gallery_code_A.shape, gallery_recons_A.shape)"
   ]
  },
  {
   "cell_type": "code",
   "execution_count": null,
   "id": "10d98992",
   "metadata": {},
   "outputs": [],
   "source": [
    "res2 = batch_cos(query_code_A, gallery_code_A)\n",
    "print(res.shape)"
   ]
  },
  {
   "cell_type": "code",
   "execution_count": null,
   "id": "5077ae41",
   "metadata": {},
   "outputs": [],
   "source": [
    "def print_res(res, print_json=False):\n",
    "    res_dict = {}\n",
    "    query_names = sorted(os.listdir(query_feature_A_dir))\n",
    "    gallery_names = sorted(os.listdir(gallery_feature_A_dir))\n",
    "    for i, name in enumerate(tqdm(query_names)):\n",
    "        idx = torch.argsort(res[i], dim=-1, descending=True)\n",
    "        query_res = []\n",
    "        for j in range(100):\n",
    "            query_res.append(gallery_names[idx[j]])\n",
    "        res_dict[name] = query_res\n",
    "    if print_json:\n",
    "        with open('./sub_a.json', 'w') as f:\n",
    "            json.dump(res_dict, f)"
   ]
  },
  {
   "cell_type": "code",
   "execution_count": null,
   "id": "c44dbb14",
   "metadata": {},
   "outputs": [],
   "source": []
  },
  {
   "cell_type": "code",
   "execution_count": null,
   "id": "e2b545e4",
   "metadata": {},
   "outputs": [],
   "source": [
    "def compare_res(res1, res2, topk=100):\n",
    "    assert res1.shape[0] == res2.shape[0]\n",
    "    ave = 0\n",
    "    t = tqdm(range(res1.shape[0]))\n",
    "    for i in t:\n",
    "        idx1 = set(torch.argsort(res1[i], dim=-1, descending=True)[:topk].tolist())\n",
    "        idx2 = set(torch.argsort(res2[i], dim=-1, descending=True)[:topk].tolist())\n",
    "        iou = len(idx1&idx2)/len(idx1|idx2)\n",
    "        t.set_postfix(IoU=f'{iou:.4f}')\n",
    "        ave += iou\n",
    "    ave /= res1.shape[0]\n",
    "    return ave"
   ]
  },
  {
   "cell_type": "code",
   "execution_count": null,
   "id": "71d77daf",
   "metadata": {},
   "outputs": [],
   "source": [
    "ave = compare_res(res, res2)\n",
    "print(ave)"
   ]
  },
  {
   "cell_type": "markdown",
   "id": "c64e6aac",
   "metadata": {},
   "source": [
    "# 我的ReRanking"
   ]
  },
  {
   "cell_type": "code",
   "execution_count": null,
   "id": "2cff3d59",
   "metadata": {},
   "outputs": [],
   "source": [
    "import os\n",
    "import numpy as np\n",
    "import torch\n",
    "import json\n",
    "from tqdm import tqdm"
   ]
  },
  {
   "cell_type": "code",
   "execution_count": null,
   "id": "632b8e82",
   "metadata": {},
   "outputs": [],
   "source": [
    "os.environ['CUDA_VISIBLE_DEVICES'] = '1'\n",
    "device = torch.device('cuda:0' if torch.cuda.is_available() else 'cpu')"
   ]
  },
  {
   "cell_type": "code",
   "execution_count": null,
   "id": "823dd8d9",
   "metadata": {},
   "outputs": [],
   "source": [
    "query_reshape_A = torch.load('/nfs3-p2/zsxm/naic/preliminary/test_A/query_reshape_A.pt').to(device)\n",
    "gallery_reshape_A = torch.load('/nfs3-p2/zsxm/naic/preliminary/test_A/gallery_reshape_A.pt').to(device)"
   ]
  },
  {
   "cell_type": "code",
   "execution_count": null,
   "id": "7894fbd8",
   "metadata": {},
   "outputs": [],
   "source": [
    "def cos_similarity(q, k):\n",
    "    try:\n",
    "        q = torch.nn.functional.normalize(q, dim=1)\n",
    "        k = torch.nn.functional.normalize(k, dim=1)\n",
    "        res = torch.mm(q, k.T)\n",
    "    except RuntimeError:\n",
    "        q = q.cpu()\n",
    "        k = k.cpu()\n",
    "        q = torch.nn.functional.normalize(q, dim=1)\n",
    "        k = torch.nn.functional.normalize(k, dim=1)\n",
    "        res = torch.mm(q, k.T)\n",
    "    return res\n",
    "\n",
    "@torch.no_grad()\n",
    "def batch_cos(q, k, batch_size=2048):\n",
    "    res = []\n",
    "    for i in tqdm(range(0, q.shape[0], batch_size)):\n",
    "        bres = cos_similarity(q[i:i+batch_size], k)\n",
    "        res.append(bres)\n",
    "    return torch.cat(res)\n",
    "\n",
    "def batch_pearson(q, k, batch_size=1024):\n",
    "    k = k-k.mean(dim=-1, keepdim=True)\n",
    "    q = q-q.mean(dim=-1, keepdim=True)\n",
    "    res = []\n",
    "    for i in tqdm(range(0, q.shape[0], batch_size)):\n",
    "        bres = cos_similarity(q[i:i+batch_size], k)\n",
    "        res.append(bres.cpu())\n",
    "    return torch.cat(res)"
   ]
  },
  {
   "cell_type": "code",
   "execution_count": null,
   "id": "75c5c448",
   "metadata": {},
   "outputs": [],
   "source": [
    "#res = batch_cos(query_reshape_A, gallery_reshape_A)\n",
    "res = batch_pearson(query_reshape_A, gallery_reshape_A)"
   ]
  },
  {
   "cell_type": "code",
   "execution_count": null,
   "id": "e82ed3d9",
   "metadata": {},
   "outputs": [],
   "source": [
    "def batch_sort(dist, batch_size=2048):\n",
    "    label = []\n",
    "    for i in tqdm(range(0, dist.shape[0], batch_size)):\n",
    "        blabel = torch.argsort(dist[i:i+batch_size], descending=True)\n",
    "        label.append(blabel[:, :10])\n",
    "        del blabel\n",
    "    return torch.cat(label)"
   ]
  },
  {
   "cell_type": "code",
   "execution_count": null,
   "id": "0da3f1a8",
   "metadata": {},
   "outputs": [],
   "source": [
    "label = batch_sort(res)"
   ]
  },
  {
   "cell_type": "code",
   "execution_count": null,
   "id": "5eb1f5d8",
   "metadata": {},
   "outputs": [],
   "source": [
    "print(label.shape)\n",
    "print(res.shape)"
   ]
  },
  {
   "cell_type": "code",
   "execution_count": null,
   "id": "b11985c8",
   "metadata": {},
   "outputs": [],
   "source": [
    "weight_sum = 0\n",
    "for i in range(6):\n",
    "    weight_sum += 0.8**i\n",
    "avg_query_reshape_A = []\n",
    "for i in tqdm(range(query_reshape_A.shape[0])):\n",
    "    avg = query_reshape_A[i].clone()\n",
    "    for j in range(0, 5):\n",
    "        avg += 0.8**(j+1)*gallery_reshape_A[label[i, j]]\n",
    "    avg /= weight_sum\n",
    "    #avg = 0.7 * gallery_reshape_A[label[i, 0]] + 0.3 * gallery_reshape_A[label[i, 1]]\n",
    "    avg_query_reshape_A.append(avg)\n",
    "avg_query_reshape_A = torch.stack(avg_query_reshape_A)\n",
    "print(avg_query_reshape_A.shape)"
   ]
  },
  {
   "cell_type": "code",
   "execution_count": null,
   "id": "f11405d0",
   "metadata": {},
   "outputs": [],
   "source": [
    "# res_rerank = batch_cos(avg_query_reshape_A, gallery_reshape_A)\n",
    "res_rerank = batch_pearson(avg_query_reshape_A, gallery_reshape_A)"
   ]
  },
  {
   "cell_type": "code",
   "execution_count": null,
   "id": "e18b7b7a",
   "metadata": {},
   "outputs": [],
   "source": [
    "def print_res(res, print_json=False):\n",
    "    query_feature_A_dir = '/nfs3-p2/zsxm/naic/preliminary/test_A/query_feature_A'\n",
    "    gallery_feature_A_dir = '/nfs3-p2/zsxm/naic/preliminary/test_A/gallery_feature_A'\n",
    "    res_dict = {}\n",
    "    query_names = sorted(os.listdir(query_feature_A_dir))\n",
    "    gallery_names = sorted(os.listdir(gallery_feature_A_dir))\n",
    "    for i, name in enumerate(tqdm(query_names)):\n",
    "        idx = torch.argsort(res[i], dim=-1, descending=True)\n",
    "        query_res = []\n",
    "        for j in range(100):\n",
    "            query_res.append(gallery_names[idx[j]])\n",
    "        res_dict[name] = query_res\n",
    "    if print_json:\n",
    "        with open('./sub_a.json', 'w') as f:\n",
    "            json.dump(res_dict, f)\n",
    "        \n",
    "#print_res(res_rerank, True)\n",
    "print_res(res, True)"
   ]
  },
  {
   "cell_type": "markdown",
   "id": "5dfe269d",
   "metadata": {},
   "source": [
    "# 马氏距离计算"
   ]
  },
  {
   "cell_type": "code",
   "execution_count": null,
   "id": "2ac49a18",
   "metadata": {
    "scrolled": true
   },
   "outputs": [],
   "source": [
    "qfs = query_feature_A.sum(dim=0)\n",
    "nqfs = torch.arange(2048)[qfs!=0]\n",
    "print(nqfs.shape, nqfs)\n",
    "gfs = gallery_feature_A.sum(dim=0)\n",
    "ngfs = torch.arange(2048)[gfs!=0]\n",
    "print(ngfs.shape, ngfs)\n",
    "print(nqfs.equal(ngfs))\n",
    "tfs = train_feature.sum(dim=0)\n",
    "ntfs = torch.arange(2048)[tfs!=0]\n",
    "print(ntfs.shape, ntfs)\n",
    "print(nqfs.equal(ntfs))"
   ]
  },
  {
   "cell_type": "code",
   "execution_count": null,
   "id": "5e85f75e",
   "metadata": {},
   "outputs": [],
   "source": [
    "not_zero_dim = nqfs\n",
    "torch.save(not_zero_dim, '/nfs3-p1/zsxm/naic/preliminary/train/not_zero_dim.pt')"
   ]
  },
  {
   "cell_type": "code",
   "execution_count": null,
   "id": "93aeeb4b",
   "metadata": {},
   "outputs": [],
   "source": [
    "query_reshape_A = query_feature_A[:, qfs!=0]\n",
    "gallery_reshape_A = gallery_feature_A[:, gfs!=0]\n",
    "print(query_reshape_A.shape, gallery_reshape_A.shape)"
   ]
  },
  {
   "cell_type": "code",
   "execution_count": null,
   "id": "b6a90dbe",
   "metadata": {},
   "outputs": [],
   "source": [
    "print(query_reshape_A.abs().mean(), gallery_reshape_A.abs().mean())\n",
    "print(query_reshape_A.abs().max(), gallery_reshape_A.abs().max())"
   ]
  },
  {
   "cell_type": "code",
   "execution_count": null,
   "id": "1f98b170",
   "metadata": {},
   "outputs": [],
   "source": [
    "del query_feature_A, gallery_feature_A"
   ]
  },
  {
   "cell_type": "code",
   "execution_count": null,
   "id": "3145409d",
   "metadata": {},
   "outputs": [],
   "source": [
    "def Mahalanobis(q, k):\n",
    "    query_names = sorted(os.listdir(query_feature_A_dir))\n",
    "    gallery_names = sorted(os.listdir(gallery_feature_A_dir))\n",
    "    q = torch.nn.functional.normalize(q, dim=1)\n",
    "    k = torch.nn.functional.normalize(k, dim=1)\n",
    "    \n",
    "    mean_k = k.mean(dim=0, keepdim=True)\n",
    "    sk = k - mean_k\n",
    "    cov = torch.mm(sk.T, sk)/(sk.shape[0]-1)\n",
    "    print(cov.shape, cov)\n",
    "    cov = cov.to(torch.device('cpu'))\n",
    "    icov = torch.linalg.inv(cov)\n",
    "    print(icov.shape, icov)\n",
    "    del cov\n",
    "    icov = icov.to(device)\n",
    "    res_dict = {}\n",
    "    for i in tqdm(range(q.shape[0])):\n",
    "        sub = q[i] - k\n",
    "        mul = torch.mm(sub, icov)\n",
    "        r = torch.einsum('bi,bi->b', mul, sub)\n",
    "        assert r.shape == (k.shape[0],)\n",
    "        idx = torch.argsort(r, descending=False)\n",
    "        query_res = []\n",
    "        for j in range(100):\n",
    "            query_res.append(gallery_names[idx[j]])\n",
    "        res_dict[query_names[i]] = query_res\n",
    "    return res_dict"
   ]
  },
  {
   "cell_type": "code",
   "execution_count": null,
   "id": "f9bde243",
   "metadata": {},
   "outputs": [],
   "source": [
    "res3 = Mahalanobis(query_reshape_A, gallery_reshape_A)"
   ]
  },
  {
   "cell_type": "code",
   "execution_count": null,
   "id": "818ed900",
   "metadata": {},
   "outputs": [],
   "source": [
    "with open('./sub_a.json', 'w') as f:\n",
    "    json.dump(res3, f)"
   ]
  },
  {
   "cell_type": "markdown",
   "id": "51eb4340",
   "metadata": {},
   "source": [
    "# ReRanking"
   ]
  },
  {
   "cell_type": "code",
   "execution_count": null,
   "id": "47eee379",
   "metadata": {},
   "outputs": [],
   "source": [
    "import os\n",
    "import numpy as np\n",
    "from collections import OrderedDict\n",
    "import json\n",
    "from tqdm import tqdm\n",
    "from scipy.spatial.distance import cdist\n",
    "\n",
    "query_feature_A_dir = '/nfs3-p2/zsxm/naic/preliminary/test_A/query_feature_A'\n",
    "gallery_feature_A_dir = '/nfs3-p2/zsxm/naic/preliminary/test_A/gallery_feature_A'"
   ]
  },
  {
   "cell_type": "code",
   "execution_count": null,
   "id": "7239e367",
   "metadata": {},
   "outputs": [],
   "source": [
    "query_feature_A = []\n",
    "for data in sorted(os.listdir(query_feature_A_dir)):\n",
    "    query_feature_A.append(np.fromfile(os.path.join(query_feature_A_dir, data), dtype='<f4'))\n",
    "query_feature_A = np.stack(query_feature_A)\n",
    "gallery_feature_A = []\n",
    "for data in sorted(os.listdir(gallery_feature_A_dir)):\n",
    "    gallery_feature_A.append(np.fromfile(os.path.join(gallery_feature_A_dir, data), dtype='<f4'))\n",
    "gallery_feature_A = np.stack(gallery_feature_A)\n",
    "print(query_feature_A.shape, gallery_feature_A.shape)\n",
    "qfs = query_feature_A.sum(axis=0)\n",
    "nqfs = np.arange(2048)[qfs!=0]\n",
    "print(nqfs.shape, nqfs)\n",
    "gfs = gallery_feature_A.sum(axis=0)\n",
    "ngfs = np.arange(2048)[gfs!=0]\n",
    "print(ngfs.shape, ngfs)\n",
    "print((nqfs==ngfs).all)\n",
    "query_reshape_A = query_feature_A[:, qfs!=0]\n",
    "gallery_reshape_A = gallery_feature_A[:, gfs!=0]\n",
    "print(query_reshape_A.shape, gallery_reshape_A.shape)\n",
    "np.save('/nfs3-p2/zsxm/naic/preliminary/test_A/query_feature_A.npy', query_feature_A)\n",
    "np.save('/nfs3-p2/zsxm/naic/preliminary/test_A/gallery_feature_A.npy', gallery_feature_A)\n",
    "np.save('/nfs3-p2/zsxm/naic/preliminary/test_A/query_reshape_A.npy', query_reshape_A)\n",
    "np.save('/nfs3-p2/zsxm/naic/preliminary/test_A/gallery_reshape_A.npy', gallery_reshape_A)"
   ]
  },
  {
   "cell_type": "code",
   "execution_count": null,
   "id": "fdd032e7",
   "metadata": {},
   "outputs": [],
   "source": [
    "query_reshape_A = np.load('/nfs3-p2/zsxm/naic/preliminary/test_A/query_reshape_A.npy')\n",
    "gallery_reshape_A = np.load('/nfs3-p2/zsxm/naic/preliminary/test_A/gallery_reshape_A.npy')"
   ]
  },
  {
   "cell_type": "code",
   "execution_count": null,
   "id": "d855ef96",
   "metadata": {},
   "outputs": [],
   "source": [
    "print(query_reshape_A.shape, gallery_reshape_A.shape)"
   ]
  },
  {
   "cell_type": "code",
   "execution_count": null,
   "id": "aa64e044",
   "metadata": {},
   "outputs": [],
   "source": [
    "from re_ranking.re_ranking_pytable import re_ranking"
   ]
  },
  {
   "cell_type": "code",
   "execution_count": null,
   "id": "db88d2cf",
   "metadata": {},
   "outputs": [],
   "source": [
    "res = re_ranking(20000, 428794, 100, 30, 0.3, 1000)"
   ]
  },
  {
   "cell_type": "code",
   "execution_count": null,
   "id": "24d09389",
   "metadata": {},
   "outputs": [],
   "source": [
    "print(res)"
   ]
  },
  {
   "cell_type": "code",
   "execution_count": null,
   "id": "5164bbf5",
   "metadata": {},
   "outputs": [],
   "source": [
    "print(res)"
   ]
  },
  {
   "cell_type": "code",
   "execution_count": null,
   "id": "1af3b8dd",
   "metadata": {},
   "outputs": [],
   "source": [
    "import os\n",
    "import numpy as np\n",
    "import tables\n",
    "from tqdm import tqdm\n",
    "dis_path = '/nfs3-p2/zsxm/naic/preliminary/test_A/dis'"
   ]
  },
  {
   "cell_type": "code",
   "execution_count": null,
   "id": "d72fcc53",
   "metadata": {},
   "outputs": [],
   "source": [
    "hdf5_path = os.path.join(dis_path, 'reranking.hdf5')\n",
    "hdf5_file = tables.open_file(hdf5_path, mode='w')"
   ]
  },
  {
   "cell_type": "code",
   "execution_count": null,
   "id": "5d416c80",
   "metadata": {},
   "outputs": [],
   "source": [
    "filters = tables.Filters()"
   ]
  },
  {
   "cell_type": "code",
   "execution_count": null,
   "id": "87a44f8f",
   "metadata": {},
   "outputs": [],
   "source": [
    "temp = np.load(os.path.join(dis_path, 'original_dist-0.npy'))"
   ]
  },
  {
   "cell_type": "code",
   "execution_count": null,
   "id": "24555545",
   "metadata": {},
   "outputs": [],
   "source": [
    "all_num = temp.shape[1]\n",
    "print(all_num)"
   ]
  },
  {
   "cell_type": "code",
   "execution_count": null,
   "id": "13d0e5fb",
   "metadata": {},
   "outputs": [],
   "source": [
    "original_dist = hdf5_file.create_earray(hdf5_file.root, \n",
    "                                        'original_dist', \n",
    "                                        tables.Atom.from_dtype(temp.dtype), \n",
    "                                        shape=(0, temp.shape[1]), \n",
    "                                        filters=filters, \n",
    "                                        expectedrows=temp.shape[1])"
   ]
  },
  {
   "cell_type": "code",
   "execution_count": null,
   "id": "ddcb97e0",
   "metadata": {},
   "outputs": [],
   "source": [
    "for t, i in enumerate(tqdm(range(0, all_num, 1000))):\n",
    "    ori = np.load(os.path.join(dis_path, f'original_dist-{t}.npy'))\n",
    "    original_dist.append(ori)"
   ]
  },
  {
   "cell_type": "code",
   "execution_count": null,
   "id": "09e6bbab",
   "metadata": {},
   "outputs": [],
   "source": [
    "temp = np.load(os.path.join(dis_path, 'initial_rank-0.npy'))"
   ]
  },
  {
   "cell_type": "code",
   "execution_count": null,
   "id": "603c3b44",
   "metadata": {},
   "outputs": [],
   "source": [
    "initial_rank = hdf5_file.create_earray(hdf5_file.root, \n",
    "                                        'initial_rank', \n",
    "                                        tables.Atom.from_dtype(temp.dtype), \n",
    "                                        shape=(0, 101), \n",
    "                                        filters=filters, \n",
    "                                        expectedrows=all_num)"
   ]
  },
  {
   "cell_type": "code",
   "execution_count": null,
   "id": "ca5646bc",
   "metadata": {},
   "outputs": [],
   "source": [
    "for t, i in enumerate(tqdm(range(0, all_num, 1000))):\n",
    "    ori = np.load(os.path.join(dis_path, f'initial_rank-{t}.npy'))\n",
    "    initial_rank.append(ori[:, :101])"
   ]
  },
  {
   "cell_type": "code",
   "execution_count": null,
   "id": "ac61f27d",
   "metadata": {},
   "outputs": [],
   "source": [
    "hdf5_file.close()"
   ]
  },
  {
   "cell_type": "code",
   "execution_count": null,
   "id": "8a5cdfd7",
   "metadata": {},
   "outputs": [],
   "source": []
  },
  {
   "cell_type": "code",
   "execution_count": null,
   "id": "f8b4480c",
   "metadata": {},
   "outputs": [],
   "source": []
  },
  {
   "cell_type": "code",
   "execution_count": null,
   "id": "4a23a1b8",
   "metadata": {},
   "outputs": [],
   "source": [
    "V = hdf5_file.create_carray(hdf5_file.root, \n",
    "                            'V', \n",
    "                            tables.Atom.from_dtype(np.zeros(1, dtype=np.float32).dtype), \n",
    "                            shape=(all_num, all_num), \n",
    "                            filters=filters)"
   ]
  },
  {
   "cell_type": "code",
   "execution_count": null,
   "id": "73e76d98",
   "metadata": {},
   "outputs": [],
   "source": [
    "hdf5_file.root"
   ]
  },
  {
   "cell_type": "code",
   "execution_count": null,
   "id": "0d43e2ee",
   "metadata": {},
   "outputs": [],
   "source": [
    "type(V)"
   ]
  },
  {
   "cell_type": "code",
   "execution_count": null,
   "id": "a4a1ab5a",
   "metadata": {},
   "outputs": [],
   "source": [
    "hdf5_file.remove_node(hdf5_file.root, 'V')"
   ]
  },
  {
   "cell_type": "code",
   "execution_count": null,
   "id": "d0f55ce0",
   "metadata": {},
   "outputs": [],
   "source": [
    "hdf5_file = tables.open_file(hdf5_path, mode='r')"
   ]
  },
  {
   "cell_type": "code",
   "execution_count": null,
   "id": "71dbfc75",
   "metadata": {},
   "outputs": [],
   "source": [
    "hdf5_file.root"
   ]
  },
  {
   "cell_type": "code",
   "execution_count": null,
   "id": "a3113209",
   "metadata": {},
   "outputs": [],
   "source": [
    "original_dist = hdf5_file.root.original_dist"
   ]
  },
  {
   "cell_type": "code",
   "execution_count": null,
   "id": "38a7797c",
   "metadata": {},
   "outputs": [],
   "source": [
    "original_dist[400000]"
   ]
  },
  {
   "cell_type": "code",
   "execution_count": null,
   "id": "3372db04",
   "metadata": {},
   "outputs": [],
   "source": [
    "hdf5_file.close()"
   ]
  },
  {
   "cell_type": "code",
   "execution_count": null,
   "id": "0b610023",
   "metadata": {},
   "outputs": [],
   "source": []
  },
  {
   "cell_type": "code",
   "execution_count": null,
   "id": "efe11f88",
   "metadata": {},
   "outputs": [],
   "source": [
    "from datasets.preliminary_dataset import PreliminaryDataset, PreliminaryBatchSampler, preliminary_collate_fn\n",
    "import random\n",
    "from torch.utils.data import DataLoader"
   ]
  },
  {
   "cell_type": "code",
   "execution_count": null,
   "id": "21154f57",
   "metadata": {},
   "outputs": [],
   "source": [
    "dataset = PreliminaryDataset('/nfs3-p1/zsxm/naic/preliminary/train', False)"
   ]
  },
  {
   "cell_type": "code",
   "execution_count": null,
   "id": "facba8b9",
   "metadata": {},
   "outputs": [],
   "source": [
    "batchsampler = PreliminaryBatchSampler(dataset, 150)"
   ]
  },
  {
   "cell_type": "code",
   "execution_count": null,
   "id": "08b37518",
   "metadata": {},
   "outputs": [],
   "source": [
    "dataloader = DataLoader(dataset, batch_sampler=batchsampler, num_workers=8, collate_fn=preliminary_collate_fn, pin_memory=True)"
   ]
  },
  {
   "cell_type": "code",
   "execution_count": null,
   "id": "ae1b6d3d",
   "metadata": {
    "scrolled": true
   },
   "outputs": [],
   "source": [
    "random.seed(2)#2078\n",
    "test_count = 0\n",
    "while True:\n",
    "    batchs = []\n",
    "    t_batch = []\n",
    "    for i, b in enumerate(batchsampler):\n",
    "        #print(i, b)\n",
    "        batchs.append(b)\n",
    "        t_batch.extend(b)\n",
    "        b_len = 0\n",
    "        for idx in b:\n",
    "            b_len += dataset.idx2len[idx]\n",
    "        assert 0 < b_len <= batchsampler.batch_size, str(b_len)+str(b)+str(i)\n",
    "    assert len(t_batch) == 15000, len(t_batch)\n",
    "    t_batch_set = set(t_batch)\n",
    "    assert len(t_batch) == len(t_batch_set), len(t_batch_set)\n",
    "    test_count +=1\n",
    "    print(test_count)"
   ]
  },
  {
   "cell_type": "code",
   "execution_count": null,
   "id": "1225eaea",
   "metadata": {},
   "outputs": [],
   "source": [
    "count = 0\n",
    "for q, k, q_label, k_label in dataloader:\n",
    "    print(count)\n",
    "    print(q.shape)\n",
    "    print(k.shape)\n",
    "    print(q_label.shape)\n",
    "    print(k_label.shape)\n",
    "    count += 1"
   ]
  },
  {
   "cell_type": "code",
   "execution_count": null,
   "id": "50c5af37",
   "metadata": {},
   "outputs": [],
   "source": []
  },
  {
   "cell_type": "markdown",
   "id": "08b8e968",
   "metadata": {},
   "source": [
    "# KISSME"
   ]
  },
  {
   "cell_type": "code",
   "execution_count": null,
   "id": "9a0497f9",
   "metadata": {},
   "outputs": [],
   "source": [
    "import os\n",
    "import numpy as np\n",
    "import torch\n",
    "from tqdm import tqdm"
   ]
  },
  {
   "cell_type": "code",
   "execution_count": null,
   "id": "18e0d3b1",
   "metadata": {},
   "outputs": [],
   "source": [
    "train_reshape = torch.load('/nfs3-p1/zsxm/naic/preliminary/train/train_reshape.pt')\n",
    "train_label = torch.load('/nfs3-p1/zsxm/naic/preliminary/train/train_label.pt')\n",
    "print(train_reshape.shape, train_label.shape)"
   ]
  },
  {
   "cell_type": "code",
   "execution_count": null,
   "id": "e3a4a9f3",
   "metadata": {},
   "outputs": [],
   "source": [
    "os.environ['CUDA_VISIBLE_DEVICES'] = '1'\n",
    "device = torch.device('cuda:0' if torch.cuda.is_available() else 'cpu')\n",
    "train_reshape = train_reshape.to(device)\n",
    "train_label = train_label.to(device)"
   ]
  },
  {
   "cell_type": "code",
   "execution_count": null,
   "id": "11e78606",
   "metadata": {},
   "outputs": [],
   "source": [
    "sigma0 = torch.zeros(train_reshape.shape[1], train_reshape.shape[1], dtype=torch.float, device=device)\n",
    "sigma1 = torch.zeros(train_reshape.shape[1], train_reshape.shape[1], dtype=torch.float, device=device)\n",
    "for i in tqdm(range(train_reshape.shape[0])):\n",
    "    for j in range(i+1, train_reshape.shape[0]):\n",
    "        xij = (train_reshape[i] - train_reshape[j]).unsqueeze(-1)\n",
    "        mij = torch.mm(xij, xij.T)\n",
    "        if train_label[i] == train_label[j]:\n",
    "            sigma1 += 2 * mij\n",
    "        else:\n",
    "            sigma0 += 2 * mij"
   ]
  },
  {
   "cell_type": "code",
   "execution_count": null,
   "id": "9f20b245",
   "metadata": {},
   "outputs": [],
   "source": [
    "sigma0 = torch.zeros(train_reshape.shape[1], train_reshape.shape[1], dtype=torch.float, device=device)\n",
    "sigma1 = torch.zeros(train_reshape.shape[1], train_reshape.shape[1], dtype=torch.float, device=device)\n",
    "BATCH_SIZE = 128\n",
    "for i in tqdm(range(train_reshape.shape[0]-1)):\n",
    "    xij = train_reshape[i] - train_reshape[i+1:]\n",
    "    flag_0 = train_label[i+1:].ne(train_label[i])\n",
    "    flag_1 = train_label[i+1:].eq(train_label[i])\n",
    "    for k in range(0, xij.shape[0], BATCH_SIZE):\n",
    "        mij = torch.bmm(xij[k:k+BATCH_SIZE].unsqueeze(-1), xij[k:k+BATCH_SIZE].unsqueeze(1))\n",
    "        sigma0 += (flag_0[k:k+BATCH_SIZE, None, None]*mij).sum(dim=0)\n",
    "        sigma1 += (flag_1[k:k+BATCH_SIZE, None, None]*mij).sum(dim=0)\n",
    "        del mij"
   ]
  },
  {
   "cell_type": "code",
   "execution_count": null,
   "id": "5e9e53bb",
   "metadata": {},
   "outputs": [],
   "source": [
    "from math import sqrt\n",
    "n = 259449\n",
    "pre = 0\n",
    "for y in range(1, 9):\n",
    "    tnp1 = 2*n+1\n",
    "    sq = sqrt(tnp1**2-y*(n**2+n)/2)\n",
    "    this = int((tnp1-sq)/2)\n",
    "    print(this, this - pre)\n",
    "    pre = this"
   ]
  },
  {
   "cell_type": "code",
   "execution_count": null,
   "id": "e934faeb",
   "metadata": {},
   "outputs": [],
   "source": []
  },
  {
   "cell_type": "code",
   "execution_count": null,
   "id": "c1bc6f35",
   "metadata": {},
   "outputs": [],
   "source": [
    "import os\n",
    "import numpy as np\n",
    "import torch\n",
    "import json\n",
    "from tqdm import tqdm"
   ]
  },
  {
   "cell_type": "code",
   "execution_count": null,
   "id": "7e5fb884",
   "metadata": {},
   "outputs": [],
   "source": [
    "os.environ['CUDA_VISIBLE_DEVICES'] = '1'\n",
    "device = torch.device('cuda:0' if torch.cuda.is_available() else 'cpu')\n",
    "train_reshape = torch.load('/nfs3-p1/zsxm/naic/preliminary/train/train_reshape.pt')\n",
    "sigma0 = torch.zeros(train_reshape.shape[1], train_reshape.shape[1], dtype=torch.float, device=device)\n",
    "sigma1 = torch.zeros(train_reshape.shape[1], train_reshape.shape[1], dtype=torch.float, device=device)"
   ]
  },
  {
   "cell_type": "code",
   "execution_count": null,
   "id": "78d69bbc",
   "metadata": {},
   "outputs": [],
   "source": [
    "input_dir = '/nfs3-p2/zsxm/naic/preliminary/train/'\n",
    "for file in sorted(os.listdir(input_dir)):\n",
    "    if file.startswith('sigma0_'):\n",
    "        sigma0 += torch.load(os.path.join(input_dir, file))\n",
    "    if file.startswith('sigma1_'):\n",
    "        sigma1 += torch.load(os.path.join(input_dir, file))"
   ]
  },
  {
   "cell_type": "code",
   "execution_count": null,
   "id": "aedaf28c",
   "metadata": {},
   "outputs": [],
   "source": [
    "Mp = torch.linalg.inv(sigma1.cpu()) - torch.linalg.inv(sigma0.cpu())"
   ]
  },
  {
   "cell_type": "code",
   "execution_count": null,
   "id": "bbf5d27b",
   "metadata": {},
   "outputs": [],
   "source": [
    "del sigma1, sigma0"
   ]
  },
  {
   "cell_type": "code",
   "execution_count": null,
   "id": "3daae971",
   "metadata": {
    "scrolled": true
   },
   "outputs": [],
   "source": [
    "eigenvalues, eigenvectors = torch.linalg.eigh(Mp, 'L')\n",
    "print(eigenvalues)"
   ]
  },
  {
   "cell_type": "code",
   "execution_count": null,
   "id": "4da1b43c",
   "metadata": {
    "scrolled": true
   },
   "outputs": [],
   "source": [
    "eigenvalues = torch.nn.functional.relu(eigenvalues, inplace=True)\n",
    "print(eigenvalues)"
   ]
  },
  {
   "cell_type": "code",
   "execution_count": null,
   "id": "424bf39b",
   "metadata": {},
   "outputs": [],
   "source": [
    "ev = torch.zeros_like(eigenvectors)\n",
    "ev[range(len(ev)), range(len(ev))] = eigenvalues\n",
    "M = eigenvectors @ ev @ eigenvectors.T"
   ]
  },
  {
   "cell_type": "code",
   "execution_count": null,
   "id": "a1e1636e",
   "metadata": {},
   "outputs": [],
   "source": [
    "print(ev)"
   ]
  },
  {
   "cell_type": "code",
   "execution_count": null,
   "id": "1ee304a4",
   "metadata": {},
   "outputs": [],
   "source": [
    "print(Mp)\n",
    "print(M)"
   ]
  },
  {
   "cell_type": "code",
   "execution_count": null,
   "id": "d36260fe",
   "metadata": {},
   "outputs": [],
   "source": [
    "query_feature_A_dir = '/nfs3-p2/zsxm/naic/preliminary/test_A/query_feature_A'\n",
    "gallery_feature_A_dir = '/nfs3-p2/zsxm/naic/preliminary/test_A/gallery_feature_A'\n",
    "def KISSME(q, k, M):\n",
    "    query_names = sorted(os.listdir(query_feature_A_dir))\n",
    "    gallery_names = sorted(os.listdir(gallery_feature_A_dir))\n",
    "    \n",
    "    res_dict = {}\n",
    "    for i in tqdm(range(q.shape[0])):\n",
    "        sub = q[i] - k\n",
    "        mul = torch.mm(sub, M)\n",
    "        r = torch.einsum('bi,bi->b', mul, sub)\n",
    "        assert r.shape == (k.shape[0],)\n",
    "        idx = torch.argsort(r, descending=False)\n",
    "        query_res = []\n",
    "        for j in range(100):\n",
    "            query_res.append(gallery_names[idx[j]])\n",
    "        res_dict[query_names[i]] = query_res\n",
    "    return res_dict"
   ]
  },
  {
   "cell_type": "code",
   "execution_count": null,
   "id": "8283c329",
   "metadata": {},
   "outputs": [],
   "source": [
    "query_reshape_A = torch.load('/nfs3-p2/zsxm/naic/preliminary/test_A/query_reshape_A.pt').to(device)\n",
    "gallery_reshape_A = torch.load('/nfs3-p2/zsxm/naic/preliminary/test_A/gallery_reshape_A.pt').to(device)"
   ]
  },
  {
   "cell_type": "code",
   "execution_count": null,
   "id": "1f4021a0",
   "metadata": {},
   "outputs": [],
   "source": [
    "device1 = device#torch.device('cpu')\n",
    "query_reshape_A = query_reshape_A.to(device1)\n",
    "gallery_reshape_A = gallery_reshape_A.to(device1)\n",
    "Mp = Mp.to(device1)"
   ]
  },
  {
   "cell_type": "code",
   "execution_count": null,
   "id": "140b074d",
   "metadata": {},
   "outputs": [],
   "source": [
    "res = KISSME(query_reshape_A, gallery_reshape_A, M.to(device))"
   ]
  },
  {
   "cell_type": "code",
   "execution_count": null,
   "id": "8432fa04",
   "metadata": {},
   "outputs": [],
   "source": [
    "with open('./sub_a.json', 'w') as f:\n",
    "    json.dump(res, f)"
   ]
  },
  {
   "cell_type": "markdown",
   "id": "306ddafd",
   "metadata": {},
   "source": [
    "# k-reciprocal"
   ]
  },
  {
   "cell_type": "code",
   "execution_count": null,
   "id": "b9621671",
   "metadata": {},
   "outputs": [],
   "source": [
    "import os\n",
    "import numpy as np\n",
    "import torch\n",
    "import json\n",
    "from tqdm import tqdm\n",
    "import tables"
   ]
  },
  {
   "cell_type": "code",
   "execution_count": null,
   "id": "acd93ebb",
   "metadata": {},
   "outputs": [],
   "source": [
    "os.environ['CUDA_VISIBLE_DEVICES'] = '1'\n",
    "device = torch.device('cuda:0' if torch.cuda.is_available() else 'cpu')\n",
    "work_dir = '/nfs3-p2/zsxm/naic/preliminary/test_A/k_reciprocal/'"
   ]
  },
  {
   "cell_type": "code",
   "execution_count": null,
   "id": "d977ec5b",
   "metadata": {},
   "outputs": [],
   "source": [
    "query_reshape_A = torch.load('/nfs3-p2/zsxm/naic/preliminary/test_A/query_reshape_A.pt').to(device)\n",
    "gallery_reshape_A = torch.load('/nfs3-p2/zsxm/naic/preliminary/test_A/gallery_reshape_A.pt').to(device)"
   ]
  },
  {
   "cell_type": "code",
   "execution_count": null,
   "id": "3ee8a098",
   "metadata": {},
   "outputs": [],
   "source": [
    "all_reshape_A = torch.cat([query_reshape_A, gallery_reshape_A])\n",
    "print(all_reshape_A.shape)"
   ]
  },
  {
   "cell_type": "code",
   "execution_count": null,
   "id": "8ca609ba",
   "metadata": {},
   "outputs": [],
   "source": [
    "def cos_similarity(q, k):\n",
    "    try:\n",
    "        q = torch.nn.functional.normalize(q, dim=1)\n",
    "        k = torch.nn.functional.normalize(k, dim=1)\n",
    "        res = torch.mm(q, k.T)\n",
    "    except RuntimeError:\n",
    "        print('out of GPU memory!')\n",
    "        q = q.cpu()\n",
    "        k = k.cpu()\n",
    "        q = torch.nn.functional.normalize(q, dim=1)\n",
    "        k = torch.nn.functional.normalize(k, dim=1)\n",
    "        res = torch.mm(q, k.T)\n",
    "    return res\n",
    "\n",
    "def batch_pearson(k, h5earray, batch_size=1024):\n",
    "    k = k-k.mean(dim=-1, keepdim=True)\n",
    "    for i in tqdm(range(0, k.shape[0], batch_size)):\n",
    "        bres = cos_similarity(k[i:i+batch_size], k)\n",
    "        bres = (bres+1)/2\n",
    "        h5earray.append(bres.cpu().numpy())"
   ]
  },
  {
   "cell_type": "code",
   "execution_count": null,
   "id": "5334eb4a",
   "metadata": {
    "scrolled": true
   },
   "outputs": [],
   "source": [
    "dist_hdf5_file = tables.open_file(os.path.join(work_dir, 'original_dist_pearson.hdf5'), mode='w')\n",
    "original_dist = dist_hdf5_file.create_earray(dist_hdf5_file.root, \n",
    "                                             'original_dist', \n",
    "                                             tables.Float32Atom(), \n",
    "                                             shape=(0, all_reshape_A.shape[0]), \n",
    "                                             filters=tables.Filters(), \n",
    "                                             expectedrows=all_reshape_A.shape[0])\n",
    "batch_pearson(all_reshape_A, original_dist)\n",
    "dist_hdf5_file.close()"
   ]
  },
  {
   "cell_type": "code",
   "execution_count": null,
   "id": "7db71218",
   "metadata": {},
   "outputs": [],
   "source": [
    "dist_hdf5_file.close()"
   ]
  },
  {
   "cell_type": "code",
   "execution_count": null,
   "id": "68b8b56e",
   "metadata": {},
   "outputs": [],
   "source": [
    "dist_hdf5_file = tables.open_file(os.path.join(work_dir, 'original_dist_pearson.hdf5'), mode='r')\n",
    "original_dist = dist_hdf5_file.root.original_dist\n",
    "print(original_dist.shape)\n",
    "dist_hdf5_file.close()"
   ]
  },
  {
   "cell_type": "code",
   "execution_count": null,
   "id": "0c073ba5",
   "metadata": {},
   "outputs": [],
   "source": [
    "def batch_rank(k, dist_earray, rank_earry, batch_size=256, descending=True):\n",
    "    for i in tqdm(range(0, k.shape[0], batch_size)):\n",
    "        dist = torch.from_numpy(dist_earray[i:i+batch_size]).to(device)\n",
    "        brklist = torch.argsort(dist, dim=-1, descending=descending).int().cpu().numpy()\n",
    "        rank_earry.append(brklist[:, :101])"
   ]
  },
  {
   "cell_type": "code",
   "execution_count": null,
   "id": "d85a74b2",
   "metadata": {},
   "outputs": [],
   "source": [
    "rank_hdf5_file = tables.open_file(os.path.join(work_dir, 'initial_rank_pearson.hdf5'), mode='w')\n",
    "initial_rank = rank_hdf5_file.create_earray(rank_hdf5_file.root, \n",
    "                                            'initial_rank', \n",
    "                                            tables.Int32Atom(), \n",
    "                                            shape=(0, 101), \n",
    "                                            filters=tables.Filters(), \n",
    "                                            expectedrows=all_reshape_A.shape[0])\n",
    "dist_hdf5_file = tables.open_file(os.path.join(work_dir, 'original_dist_pearson.hdf5'), mode='r')\n",
    "original_dist = dist_hdf5_file.root.original_dist\n",
    "batch_rank(all_reshape_A, original_dist, initial_rank)"
   ]
  },
  {
   "cell_type": "code",
   "execution_count": null,
   "id": "e532d648",
   "metadata": {},
   "outputs": [],
   "source": [
    "rank_hdf5_file.close()\n",
    "dist_hdf5_file.close()"
   ]
  },
  {
   "cell_type": "code",
   "execution_count": null,
   "id": "bcb2cce0",
   "metadata": {},
   "outputs": [],
   "source": [
    "import os\n",
    "import numpy as np\n",
    "import torch\n",
    "import tables\n",
    "from tqdm import tqdm\n",
    "\n",
    "ALL_NUM = 448794\n",
    "os.environ['CUDA_VISIBLE_DEVICES'] = '1'\n",
    "device = torch.device('cuda:0' if torch.cuda.is_available() else 'cpu')\n",
    "work_dir = '/nfs3-p2/zsxm/naic/preliminary/test_A/k_reciprocal/'\n",
    "\n",
    "def calc_V(num, start, end, k1=100):\n",
    "    dist_hdf5_file = tables.open_file(os.path.join(work_dir, 'original_dist_pearson.hdf5'), mode='r')\n",
    "    original_dist = dist_hdf5_file.root.original_dist\n",
    "    rank_hdf5_file = tables.open_file(os.path.join(work_dir, 'initial_rank_pearson.hdf5'), mode='r')\n",
    "    initial_rank = rank_hdf5_file.root.initial_rank\n",
    "    v_hdf5_file = tables.open_file(os.path.join(work_dir, f'V_{num}.hdf5'), mode='w')\n",
    "    V = v_hdf5_file.create_carray(v_hdf5_file.root, 'V', tables.Float32Atom(), shape=(end-start, ALL_NUM), filters=tables.Filters())\n",
    "\n",
    "    for i in tqdm(range(start, end), desc='calculate V'):\n",
    "        forward_k_neigh_index = initial_rank[i,:k1+1]\n",
    "        backward_k_neigh_index = initial_rank[forward_k_neigh_index,:k1+1]\n",
    "        fi = np.where(backward_k_neigh_index==i)[0]\n",
    "        k_reciprocal_index = forward_k_neigh_index[fi]\n",
    "        k_reciprocal_expansion_index = k_reciprocal_index\n",
    "        for j in range(len(k_reciprocal_index)):\n",
    "            candidate = k_reciprocal_index[j]\n",
    "            candidate_forward_k_neigh_index = initial_rank[candidate,:int(np.around(k1/2))+1]\n",
    "            candidate_backward_k_neigh_index = initial_rank[candidate_forward_k_neigh_index,:int(np.around(k1/2))+1]\n",
    "            fi_candidate = np.where(candidate_backward_k_neigh_index == candidate)[0]\n",
    "            candidate_k_reciprocal_index = candidate_forward_k_neigh_index[fi_candidate]\n",
    "            if len(np.intersect1d(candidate_k_reciprocal_index,k_reciprocal_index))> 2/3*len(candidate_k_reciprocal_index):\n",
    "                k_reciprocal_expansion_index = np.append(k_reciprocal_expansion_index,candidate_k_reciprocal_index)\n",
    "            \n",
    "        k_reciprocal_expansion_index = np.unique(k_reciprocal_expansion_index)\n",
    "        # weight = np.exp(-original_dist[i,k_reciprocal_expansion_index])\n",
    "        # V[i,k_reciprocal_expansion_index] = weight/np.sum(weight)\n",
    "        V[i, k_reciprocal_expansion_index] = original_dist[i,k_reciprocal_expansion_index]\n",
    "    \n",
    "    v_hdf5_file.close()\n",
    "    rank_hdf5_file.close()\n",
    "    dist_hdf5_file.close()"
   ]
  },
  {
   "cell_type": "code",
   "execution_count": null,
   "id": "9550cb85",
   "metadata": {},
   "outputs": [],
   "source": [
    "calc_V(0, 0, 80000)"
   ]
  },
  {
   "cell_type": "markdown",
   "id": "ef8700ff",
   "metadata": {},
   "source": [
    "# B榜"
   ]
  },
  {
   "cell_type": "markdown",
   "id": "98454de6",
   "metadata": {},
   "source": [
    "## 处理数据以及普通rerank"
   ]
  },
  {
   "cell_type": "code",
   "execution_count": 1,
   "id": "db688b54",
   "metadata": {},
   "outputs": [],
   "source": [
    "import os\n",
    "import numpy as np\n",
    "import torch\n",
    "from collections import OrderedDict\n",
    "import json\n",
    "from tqdm import tqdm\n",
    "\n",
    "os.environ['CUDA_VISIBLE_DEVICES'] = '1'\n",
    "#device = torch.device('cuda:0' if torch.cuda.is_available() else 'cpu')"
   ]
  },
  {
   "cell_type": "code",
   "execution_count": 2,
   "id": "87234b25",
   "metadata": {},
   "outputs": [],
   "source": [
    "query_feature_B_dir = '/nfs3-p2/zsxm/naic/preliminary/test_B/query_feature_B'\n",
    "gallery_feature_B_dir = '/nfs3-p2/zsxm/naic/preliminary/test_B/gallery_feature_B'"
   ]
  },
  {
   "cell_type": "code",
   "execution_count": null,
   "id": "49b56ff1",
   "metadata": {},
   "outputs": [],
   "source": [
    "query_feature_B = []\n",
    "for data in sorted(os.listdir(query_feature_B_dir)):\n",
    "    query_feature_B.append(torch.from_numpy(np.fromfile(os.path.join(query_feature_B_dir, data), dtype='<f4')))\n",
    "query_feature_B = torch.stack(query_feature_B)"
   ]
  },
  {
   "cell_type": "code",
   "execution_count": null,
   "id": "0a45086e",
   "metadata": {},
   "outputs": [],
   "source": [
    "gallery_feature_B = []\n",
    "for data in sorted(os.listdir(gallery_feature_B_dir)):\n",
    "    gallery_feature_B.append(torch.from_numpy(np.fromfile(os.path.join(gallery_feature_B_dir, data), dtype='<f4')))\n",
    "gallery_feature_B = torch.stack(gallery_feature_B)"
   ]
  },
  {
   "cell_type": "code",
   "execution_count": null,
   "id": "4d67d052",
   "metadata": {},
   "outputs": [],
   "source": [
    "print(query_feature_B.shape, query_feature_B)\n",
    "print(gallery_feature_B.shape, gallery_feature_B)\n",
    "torch.save(query_feature_B, '/nfs3-p2/zsxm/naic/preliminary/test_B/query_feature_B.pt')\n",
    "torch.save(gallery_feature_B, '/nfs3-p2/zsxm/naic/preliminary/test_B/gallery_feature_B.pt')"
   ]
  },
  {
   "cell_type": "code",
   "execution_count": null,
   "id": "4d289df5",
   "metadata": {},
   "outputs": [],
   "source": [
    "qfs = query_feature_B.sum(dim=0)\n",
    "nqfs = torch.arange(2048)[qfs!=0]\n",
    "print(nqfs.shape, nqfs)\n",
    "gfs = gallery_feature_B.sum(dim=0)\n",
    "ngfs = torch.arange(2048)[gfs!=0]\n",
    "print(ngfs.shape, ngfs)\n",
    "print(nqfs.equal(ngfs))\n",
    "\n",
    "query_feature_A = torch.load('/nfs3-p2/zsxm/naic/preliminary/test_A/query_feature_A.pt')\n",
    "tfs = query_feature_A.sum(dim=0)\n",
    "ntfs = torch.arange(2048)[tfs!=0]\n",
    "print(ntfs.shape, ntfs)\n",
    "print(nqfs.equal(ntfs))\n",
    "del query_feature_A"
   ]
  },
  {
   "cell_type": "code",
   "execution_count": null,
   "id": "56c81992",
   "metadata": {},
   "outputs": [],
   "source": [
    "query_reshape_B = query_feature_B[:, nqfs]\n",
    "gallery_reshape_B = gallery_feature_B[:, nqfs]\n",
    "print(query_reshape_B.shape, gallery_reshape_B.shape)"
   ]
  },
  {
   "cell_type": "code",
   "execution_count": null,
   "id": "bb46867b",
   "metadata": {},
   "outputs": [],
   "source": [
    "torch.save(query_reshape_B, '/nfs3-p2/zsxm/naic/preliminary/test_B/query_reshape_B.pt')\n",
    "torch.save(gallery_reshape_B, '/nfs3-p2/zsxm/naic/preliminary/test_B/gallery_reshape_B.pt')"
   ]
  },
  {
   "cell_type": "code",
   "execution_count": 3,
   "id": "7d9949d5",
   "metadata": {},
   "outputs": [],
   "source": [
    "query_reshape_B = torch.load('/nfs3-p2/zsxm/naic/preliminary/test_B/query_reshape_B.pt').to(device)\n",
    "gallery_reshape_B = torch.load('/nfs3-p2/zsxm/naic/preliminary/test_B/gallery_reshape_B.pt').to(device)"
   ]
  },
  {
   "cell_type": "code",
   "execution_count": null,
   "id": "571edaf3",
   "metadata": {},
   "outputs": [],
   "source": [
    "def cos_similarity(q, k):\n",
    "    try:\n",
    "        q = torch.nn.functional.normalize(q, dim=1)\n",
    "        k = torch.nn.functional.normalize(k, dim=1)\n",
    "        res = torch.mm(q, k.T)\n",
    "    except RuntimeError:\n",
    "        q = q.cpu()\n",
    "        k = k.cpu()\n",
    "        q = torch.nn.functional.normalize(q, dim=1)\n",
    "        k = torch.nn.functional.normalize(k, dim=1)\n",
    "        res = torch.mm(q, k.T)\n",
    "    return res\n",
    "\n",
    "@torch.no_grad()\n",
    "def batch_cos(q, k, batch_size=2048):\n",
    "    res = []\n",
    "    for i in tqdm(range(0, q.shape[0], batch_size)):\n",
    "        bres = cos_similarity(q[i:i+batch_size], k)\n",
    "        res.append(bres)\n",
    "    return torch.cat(res)\n",
    "\n",
    "def batch_pearson(q, k, batch_size=1024):\n",
    "    k = k-k.mean(dim=-1, keepdim=True)\n",
    "    q = q-q.mean(dim=-1, keepdim=True)\n",
    "    res = []\n",
    "    for i in tqdm(range(0, q.shape[0], batch_size)):\n",
    "        bres = cos_similarity(q[i:i+batch_size], k)\n",
    "        res.append(bres.cpu())\n",
    "    return torch.cat(res)\n",
    "\n",
    "def batch_sort(dist, batch_size=500):\n",
    "    label = []\n",
    "    for i in tqdm(range(0, dist.shape[0], batch_size)):\n",
    "        temp = dist[i:i+batch_size].to(device)\n",
    "        blabel = torch.argsort(temp, descending=True)\n",
    "        label.append(blabel[:, :10].cpu())\n",
    "        del blabel, temp\n",
    "    return torch.cat(label)\n",
    "\n",
    "def print_res(res, print_json=False):\n",
    "    query_feature_B_dir = '/nfs3-p2/zsxm/naic/preliminary/test_B/query_feature_B'\n",
    "    gallery_feature_B_dir = '/nfs3-p2/zsxm/naic/preliminary/test_B/gallery_feature_B'\n",
    "    res_dict = {}\n",
    "    query_names = sorted(os.listdir(query_feature_B_dir))\n",
    "    gallery_names = sorted(os.listdir(gallery_feature_B_dir))\n",
    "    for i, name in enumerate(tqdm(query_names)):\n",
    "        idx = torch.argsort(res[i], dim=-1, descending=True)\n",
    "        query_res = []\n",
    "        for j in range(100):\n",
    "            query_res.append(gallery_names[idx[j]])\n",
    "        res_dict[name] = query_res\n",
    "    if print_json:\n",
    "        with open('./result_pearson_b.json', 'w') as f:\n",
    "            json.dump(res_dict, f)"
   ]
  },
  {
   "cell_type": "code",
   "execution_count": null,
   "id": "e941b6c1",
   "metadata": {},
   "outputs": [],
   "source": [
    "res = batch_pearson(query_reshape_B, gallery_reshape_B)"
   ]
  },
  {
   "cell_type": "code",
   "execution_count": null,
   "id": "f8d682b7",
   "metadata": {},
   "outputs": [],
   "source": [
    "label = batch_sort(res)"
   ]
  },
  {
   "cell_type": "code",
   "execution_count": null,
   "id": "a7746d24",
   "metadata": {},
   "outputs": [],
   "source": [
    "avg_query_reshape_B = []\n",
    "for i in tqdm(range(query_reshape_B.shape[0])):\n",
    "    avg = 0.7 * gallery_reshape_B[label[i, 0]] + 0.3 * gallery_reshape_B[label[i, 1]]\n",
    "    avg_query_reshape_B.append(avg)\n",
    "avg_query_reshape_B = torch.stack(avg_query_reshape_B)\n",
    "print(avg_query_reshape_B.shape)"
   ]
  },
  {
   "cell_type": "code",
   "execution_count": null,
   "id": "bb6f67fa",
   "metadata": {},
   "outputs": [],
   "source": [
    "res_rerank = batch_pearson(avg_query_reshape_B, gallery_reshape_B)"
   ]
  },
  {
   "cell_type": "code",
   "execution_count": null,
   "id": "62e95297",
   "metadata": {},
   "outputs": [],
   "source": [
    "print_res(res, True)"
   ]
  },
  {
   "cell_type": "markdown",
   "id": "6ec860ec",
   "metadata": {},
   "source": [
    "## k-reciprocal"
   ]
  },
  {
   "cell_type": "code",
   "execution_count": null,
   "id": "878a1a35",
   "metadata": {},
   "outputs": [],
   "source": [
    "import os\n",
    "import numpy as np\n",
    "import torch\n",
    "import json\n",
    "from tqdm import tqdm\n",
    "import tables"
   ]
  },
  {
   "cell_type": "code",
   "execution_count": null,
   "id": "c3867a15",
   "metadata": {},
   "outputs": [],
   "source": [
    "os.environ['CUDA_VISIBLE_DEVICES'] = '1'\n",
    "device = torch.device('cuda:0' if torch.cuda.is_available() else 'cpu')\n",
    "work_dir = '/nfs3-p2/zsxm/naic/preliminary/test_B/k_reciprocal/'\n",
    "os.makedirs(work_dir, exist_ok=True)"
   ]
  },
  {
   "cell_type": "code",
   "execution_count": null,
   "id": "b89a6faf",
   "metadata": {},
   "outputs": [],
   "source": [
    "query_reshape_B = torch.load('/nfs3-p2/zsxm/naic/preliminary/test_B/query_reshape_B.pt').to(device)\n",
    "gallery_reshape_B = torch.load('/nfs3-p2/zsxm/naic/preliminary/test_B/gallery_reshape_B.pt').to(device)"
   ]
  },
  {
   "cell_type": "code",
   "execution_count": null,
   "id": "0ba70bfe",
   "metadata": {},
   "outputs": [],
   "source": [
    "all_reshape_B = torch.cat([query_reshape_B, gallery_reshape_B])\n",
    "print(all_reshape_B.shape)"
   ]
  },
  {
   "cell_type": "code",
   "execution_count": null,
   "id": "d2393954",
   "metadata": {},
   "outputs": [],
   "source": [
    "def cos_similarity(q, k):\n",
    "    try:\n",
    "        q = torch.nn.functional.normalize(q, dim=1)\n",
    "        k = torch.nn.functional.normalize(k, dim=1)\n",
    "        res = torch.mm(q, k.T)\n",
    "    except RuntimeError:\n",
    "        print('out of GPU memory!')\n",
    "        q = q.cpu()\n",
    "        k = k.cpu()\n",
    "        q = torch.nn.functional.normalize(q, dim=1)\n",
    "        k = torch.nn.functional.normalize(k, dim=1)\n",
    "        res = torch.mm(q, k.T)\n",
    "    return res\n",
    "\n",
    "def batch_pearson(k, h5earray, batch_size=16):\n",
    "    k = k-k.mean(dim=-1, keepdim=True)\n",
    "    for i in tqdm(range(0, k.shape[0], batch_size)):\n",
    "        bres = cos_similarity(k[i:i+batch_size], k)\n",
    "        bres = (bres+1)/2\n",
    "        h5earray.append(bres.cpu().numpy())\n",
    "        \n",
    "def batch_rank(k, dist_earray, rank_earry, batch_size=16, descending=True):\n",
    "    for i in tqdm(range(0, k.shape[0], batch_size)):\n",
    "        dist = torch.from_numpy(dist_earray[i:i+batch_size]).to(device)\n",
    "        brklist = torch.argsort(dist, dim=-1, descending=descending).int().cpu().numpy()\n",
    "        rank_earry.append(brklist[:, :101])"
   ]
  },
  {
   "cell_type": "code",
   "execution_count": null,
   "id": "f1150151",
   "metadata": {},
   "outputs": [],
   "source": [
    "dist_hdf5_file = tables.open_file(os.path.join(work_dir, 'original_dist_pearson.hdf5'), mode='w')\n",
    "original_dist = dist_hdf5_file.create_earray(dist_hdf5_file.root, \n",
    "                                             'original_dist', \n",
    "                                             tables.Float32Atom(), \n",
    "                                             shape=(0, all_reshape_B.shape[0]), \n",
    "                                             filters=tables.Filters(5), \n",
    "                                             expectedrows=all_reshape_B.shape[0])\n",
    "batch_pearson(all_reshape_B, original_dist)\n",
    "dist_hdf5_file.close()"
   ]
  },
  {
   "cell_type": "code",
   "execution_count": null,
   "id": "63c23071",
   "metadata": {},
   "outputs": [],
   "source": [
    "rank_hdf5_file = tables.open_file(os.path.join(work_dir, 'initial_rank_pearson.hdf5'), mode='w')\n",
    "initial_rank = rank_hdf5_file.create_earray(rank_hdf5_file.root, \n",
    "                                            'initial_rank', \n",
    "                                            tables.Int32Atom(), \n",
    "                                            shape=(0, 101), \n",
    "                                            filters=tables.Filters(), \n",
    "                                            expectedrows=all_reshape_B.shape[0])\n",
    "dist_hdf5_file = tables.open_file(os.path.join(work_dir, 'original_dist_pearson.hdf5'), mode='r')\n",
    "original_dist = dist_hdf5_file.root.original_dist\n",
    "batch_rank(all_reshape_B, original_dist, initial_rank)\n",
    "\n",
    "rank_hdf5_file.close()\n",
    "dist_hdf5_file.close()"
   ]
  },
  {
   "cell_type": "code",
   "execution_count": null,
   "id": "8ee32e2a",
   "metadata": {},
   "outputs": [],
   "source": []
  },
  {
   "cell_type": "code",
   "execution_count": 4,
   "id": "89a35f71",
   "metadata": {},
   "outputs": [
    {
     "name": "stdout",
     "output_type": "stream",
     "text": [
      "6\n",
      "7\n",
      "9\n",
      "10\n",
      "12\n",
      "13\n"
     ]
    }
   ],
   "source": [
    "import os\n",
    "\n",
    "for i in range(50):\n",
    "    if not os.path.exists(os.path.join('/nfs3-p2/zsxm/naic/preliminary/test_B/k_reciprocal', f'jaccard_dist_{i}.pt')):\n",
    "        print(i)"
   ]
  },
  {
   "cell_type": "code",
   "execution_count": 5,
   "id": "13818b1a",
   "metadata": {},
   "outputs": [
    {
     "name": "stdout",
     "output_type": "stream",
     "text": [
      "6\n",
      "7\n",
      "9\n",
      "10\n",
      "12\n",
      "13\n"
     ]
    }
   ],
   "source": [
    "import os\n",
    "\n",
    "for i in range(50):\n",
    "    if not os.path.exists(os.path.join('/nfs3-p2/zsxm/naic/preliminary/test_B/k_reciprocal', f'res_{i}.pt')):\n",
    "        print(i)"
   ]
  },
  {
   "cell_type": "code",
   "execution_count": null,
   "id": "e3da96a5",
   "metadata": {},
   "outputs": [],
   "source": []
  }
 ],
 "metadata": {
  "kernelspec": {
   "display_name": "Python 3",
   "language": "python",
   "name": "python3"
  },
  "language_info": {
   "codemirror_mode": {
    "name": "ipython",
    "version": 3
   },
   "file_extension": ".py",
   "mimetype": "text/x-python",
   "name": "python",
   "nbconvert_exporter": "python",
   "pygments_lexer": "ipython3",
   "version": "3.8.10"
  }
 },
 "nbformat": 4,
 "nbformat_minor": 5
}
