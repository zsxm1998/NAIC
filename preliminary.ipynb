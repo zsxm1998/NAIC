{
 "cells": [
  {
   "cell_type": "code",
   "execution_count": null,
   "id": "e0ce293e",
   "metadata": {},
   "outputs": [],
   "source": [
    "import os\n",
    "import numpy as np\n",
    "import torch\n",
    "from collections import OrderedDict\n",
    "import json\n",
    "from models.mlp import MLP_MoCo\n",
    "from tqdm import tqdm\n",
    "\n",
    "os.environ['CUDA_VISIBLE_DEVICES'] = '0'\n",
    "device = torch.device('cuda:0' if torch.cuda.is_available() else 'cpu')\n",
    "#device = torch.device('cpu')"
   ]
  },
  {
   "cell_type": "code",
   "execution_count": null,
   "id": "88da7aec",
   "metadata": {},
   "outputs": [],
   "source": [
    "query_feature_A_dir = '/nfs3-p2/zsxm/naic/preliminary/test_A/query_feature_A'\n",
    "gallery_feature_A_dir = '/nfs3-p2/zsxm/naic/preliminary/test_A/gallery_feature_A'"
   ]
  },
  {
   "cell_type": "code",
   "execution_count": null,
   "id": "ca844334",
   "metadata": {},
   "outputs": [],
   "source": [
    "query_feature_A = []\n",
    "for data in sorted(os.listdir(query_feature_A_dir)):\n",
    "    query_feature_A.append(torch.from_numpy(np.fromfile(os.path.join(query_feature_A_dir, data), dtype='<f4')))\n",
    "query_feature_A = torch.stack(query_feature_A).to(device)"
   ]
  },
  {
   "cell_type": "code",
   "execution_count": null,
   "id": "84b309e1",
   "metadata": {},
   "outputs": [],
   "source": [
    "gallery_feature_A = []\n",
    "for data in sorted(os.listdir(gallery_feature_A_dir)):\n",
    "    gallery_feature_A.append(torch.from_numpy(np.fromfile(os.path.join(gallery_feature_A_dir, data), dtype='<f4')))\n",
    "gallery_feature_A = torch.stack(gallery_feature_A).to(device)"
   ]
  },
  {
   "cell_type": "code",
   "execution_count": null,
   "id": "c046755c",
   "metadata": {},
   "outputs": [],
   "source": [
    "print(query_feature_A.shape, query_feature_A)\n",
    "print(gallery_feature_A.shape, gallery_feature_A)\n",
    "torch.save(query_feature_A.cpu(), '/nfs3-p2/zsxm/naic/preliminary/test_A/query_feature_A.pt')\n",
    "torch.save(gallery_feature_A.cpu(), '/nfs3-p2/zsxm/naic/preliminary/test_A/gallery_feature_A.pt')"
   ]
  },
  {
   "cell_type": "code",
   "execution_count": null,
   "id": "7cd0eca6",
   "metadata": {},
   "outputs": [],
   "source": [
    "query_feature_A = torch.load('/nfs3-p2/zsxm/naic/preliminary/test_A/query_feature_A.pt')\n",
    "gallery_feature_A = torch.load('/nfs3-p2/zsxm/naic/preliminary/test_A/gallery_feature_A.pt')\n",
    "print(query_feature_A.shape, query_feature_A)\n",
    "print(gallery_feature_A.shape, gallery_feature_A)"
   ]
  },
  {
   "cell_type": "code",
   "execution_count": null,
   "id": "08a67a6e",
   "metadata": {},
   "outputs": [],
   "source": [
    "query_feature_A = query_feature_A.to(device)\n",
    "gallery_feature_A = gallery_feature_A.to(device)"
   ]
  },
  {
   "cell_type": "code",
   "execution_count": null,
   "id": "030cb8be",
   "metadata": {},
   "outputs": [],
   "source": [
    "def cos_similarity(q, k):\n",
    "    try:\n",
    "        mm = torch.mm(q, k.T)\n",
    "        qn = torch.linalg.vector_norm(q, dim=1, keepdim=True)\n",
    "        kn = torch.linalg.vector_norm(k, dim=1, keepdim=True)\n",
    "        qk = torch.mm(qn, kn.T)\n",
    "        res = mm / qk\n",
    "    except RuntimeError:\n",
    "        q = q.cpu()\n",
    "        k = k.cpu()\n",
    "        mm = torch.mm(q, k.T)\n",
    "        qn = torch.linalg.vector_norm(q, dim=1, keepdim=True)\n",
    "        kn = torch.linalg.vector_norm(k, dim=1, keepdim=True)\n",
    "        qk = torch.mm(qn, kn.T)\n",
    "        res = mm / qk\n",
    "    return res"
   ]
  },
  {
   "cell_type": "code",
   "execution_count": null,
   "id": "291df547",
   "metadata": {},
   "outputs": [],
   "source": [
    "def cos_similarity(q, k):\n",
    "    try:\n",
    "        q = torch.nn.functional.normalize(q, dim=1)\n",
    "        k = torch.nn.functional.normalize(k, dim=1)\n",
    "        res = torch.mm(q, k.T)\n",
    "    except RuntimeError:\n",
    "        q = q.cpu()\n",
    "        k = k.cpu()\n",
    "        q = torch.nn.functional.normalize(q, dim=1)\n",
    "        k = torch.nn.functional.normalize(k, dim=1)\n",
    "        res = torch.mm(q, k.T)\n",
    "    return res"
   ]
  },
  {
   "cell_type": "code",
   "execution_count": null,
   "id": "0a8c80ce",
   "metadata": {},
   "outputs": [],
   "source": [
    "@torch.no_grad()\n",
    "def batch_cos(q, k, batch_size=2048):\n",
    "    res = []\n",
    "    for i in tqdm(range(0, q.shape[0], batch_size)):\n",
    "        bres = cos_similarity(q[i:i+batch_size], k)\n",
    "        res.append(bres)\n",
    "    return torch.cat(res)"
   ]
  },
  {
   "cell_type": "code",
   "execution_count": null,
   "id": "1748faf8",
   "metadata": {},
   "outputs": [],
   "source": [
    "res = batch_cos(query_feature_A, gallery_feature_A)\n",
    "print(res.shape)"
   ]
  },
  {
   "cell_type": "code",
   "execution_count": null,
   "id": "98483ef1",
   "metadata": {},
   "outputs": [],
   "source": [
    "net = MLP_MoCo()\n",
    "net.load_state_dict(torch.load('.details/checkpoints/MLP/01-11_11:48:10/Net_best.pth', map_location=device))\n",
    "net.to(device)\n",
    "net = net.encoder_q#.encoder\n",
    "net.eval()\n",
    "print('')"
   ]
  },
  {
   "cell_type": "code",
   "execution_count": null,
   "id": "bb136e36",
   "metadata": {},
   "outputs": [],
   "source": [
    "@torch.no_grad()\n",
    "def encode(net, data, batch_size=2048):\n",
    "    res, rcons = [], []\n",
    "    for i in tqdm(range(0, data.shape[0], batch_size)):\n",
    "        brcons, bres = net(data[i:i+batch_size])\n",
    "        res.append(bres)\n",
    "        rcons.append(brcons)\n",
    "    return torch.cat(res), torch.cat(rcons)"
   ]
  },
  {
   "cell_type": "code",
   "execution_count": null,
   "id": "dbbf8658",
   "metadata": {},
   "outputs": [],
   "source": [
    "query_code_A, query_recons_A = encode(net, query_feature_A)\n",
    "gallery_code_A, gallery_recons_A = encode(net, gallery_feature_A)"
   ]
  },
  {
   "cell_type": "code",
   "execution_count": null,
   "id": "c80c5a64",
   "metadata": {},
   "outputs": [],
   "source": [
    "print(query_code_A.shape, query_recons_A.shape)\n",
    "print(gallery_code_A.shape, gallery_recons_A.shape)"
   ]
  },
  {
   "cell_type": "code",
   "execution_count": null,
   "id": "10d98992",
   "metadata": {},
   "outputs": [],
   "source": [
    "res2 = batch_cos(query_code_A, gallery_code_A)\n",
    "print(res.shape)"
   ]
  },
  {
   "cell_type": "code",
   "execution_count": null,
   "id": "5077ae41",
   "metadata": {},
   "outputs": [],
   "source": [
    "def print_res(res, print_json=False):\n",
    "    res_dict = {}\n",
    "    query_names = sorted(os.listdir(query_feature_A_dir))\n",
    "    gallery_names = sorted(os.listdir(gallery_feature_A_dir))\n",
    "    for i, name in enumerate(tqdm(query_names)):\n",
    "        idx = torch.argsort(res[i], dim=-1, descending=True)\n",
    "        query_res = []\n",
    "        for j in range(100):\n",
    "            query_res.append(gallery_names[idx[j]])\n",
    "        res_dict[name] = query_res\n",
    "    if print_json:\n",
    "        with open('./sub_a.json', 'w') as f:\n",
    "        json.dump(res_dict, f)"
   ]
  },
  {
   "cell_type": "code",
   "execution_count": null,
   "id": "c44dbb14",
   "metadata": {},
   "outputs": [],
   "source": []
  },
  {
   "cell_type": "code",
   "execution_count": null,
   "id": "e2b545e4",
   "metadata": {},
   "outputs": [],
   "source": [
    "def compare_res(res1, res2, topk=100):\n",
    "    assert res1.shape[0] == res2.shape[0]\n",
    "    ave = 0\n",
    "    t = tqdm(range(res1.shape[0]))\n",
    "    for i in t:\n",
    "        idx1 = set(torch.argsort(res1[i], dim=-1, descending=True)[:topk].tolist())\n",
    "        idx2 = set(torch.argsort(res2[i], dim=-1, descending=True)[:topk].tolist())\n",
    "        iou = len(idx1&idx2)/len(idx1|idx2)\n",
    "        t.set_postfix(IoU=f'{iou:.4f}')\n",
    "        ave += iou\n",
    "    ave /= res1.shape[0]\n",
    "    return ave"
   ]
  },
  {
   "cell_type": "code",
   "execution_count": null,
   "id": "71d77daf",
   "metadata": {},
   "outputs": [],
   "source": [
    "ave = compare_res(res, res2)\n",
    "print(ave)"
   ]
  },
  {
   "cell_type": "markdown",
   "id": "5dfe269d",
   "metadata": {},
   "source": [
    "## 马氏距离计算"
   ]
  },
  {
   "cell_type": "code",
   "execution_count": null,
   "id": "2ac49a18",
   "metadata": {
    "scrolled": true
   },
   "outputs": [],
   "source": [
    "qfs = query_feature_A.sum(dim=0)\n",
    "nqfs = torch.arange(2048)[qfs!=0]\n",
    "print(nqfs.shape, nqfs)\n",
    "gfs = gallery_feature_A.sum(dim=0)\n",
    "ngfs = torch.arange(2048)[gfs!=0]\n",
    "print(ngfs.shape, ngfs)\n",
    "print(nqfs.equal(ngfs))"
   ]
  },
  {
   "cell_type": "code",
   "execution_count": null,
   "id": "93aeeb4b",
   "metadata": {},
   "outputs": [],
   "source": [
    "query_reshape_A = query_feature_A[:, qfs!=0]\n",
    "gallery_reshape_A = gallery_feature_A[:, gfs!=0]\n",
    "print(query_reshape_A.shape, gallery_reshape_A.shape)"
   ]
  },
  {
   "cell_type": "code",
   "execution_count": null,
   "id": "1f98b170",
   "metadata": {},
   "outputs": [],
   "source": [
    "del query_feature_A, gallery_feature_A"
   ]
  },
  {
   "cell_type": "code",
   "execution_count": null,
   "id": "3145409d",
   "metadata": {},
   "outputs": [],
   "source": [
    "def Mahalanobis(q, k):\n",
    "    query_names = sorted(os.listdir(query_feature_A_dir))\n",
    "    gallery_names = sorted(os.listdir(gallery_feature_A_dir))\n",
    "    q = torch.nn.functional.normalize(q, dim=1)\n",
    "    k = torch.nn.functional.normalize(k, dim=1)\n",
    "    \n",
    "    mean_k = k.mean(dim=0, keepdim=True)\n",
    "    sk = k - mean_k\n",
    "    cov = torch.mm(sk.T, sk)/(sk.shape[0]-1)\n",
    "    print(cov.shape, cov)\n",
    "    cov = cov.to(torch.device('cpu'))\n",
    "    icov = torch.linalg.inv(cov)\n",
    "    print(icov.shape, icov)\n",
    "    del cov\n",
    "    icov = icov.to(device)\n",
    "    res_dict = {}\n",
    "    for i in tqdm(range(q.shape[0])):\n",
    "        sub = q[i] - k\n",
    "        mul = torch.mm(sub, icov)\n",
    "        r = torch.einsum('bi,bi->b', mul, sub)\n",
    "        assert r.shape == (k.shape[0],)\n",
    "        idx = torch.argsort(r, descending=False)\n",
    "        query_res = []\n",
    "        for j in range(100):\n",
    "            query_res.append(gallery_names[idx[j]])\n",
    "        res_dict[query_names[i]] = query_res\n",
    "    return res_dict"
   ]
  },
  {
   "cell_type": "code",
   "execution_count": null,
   "id": "f9bde243",
   "metadata": {},
   "outputs": [],
   "source": [
    "res3 = Mahalanobis(query_reshape_A, gallery_reshape_A)"
   ]
  },
  {
   "cell_type": "code",
   "execution_count": null,
   "id": "818ed900",
   "metadata": {},
   "outputs": [],
   "source": [
    "with open('./sub_a.json', 'w') as f:\n",
    "    json.dump(res3, f)"
   ]
  },
  {
   "cell_type": "markdown",
   "id": "dae8453e",
   "metadata": {},
   "source": [
    "# ReRanking"
   ]
  },
  {
   "cell_type": "code",
   "execution_count": 1,
   "id": "47eee379",
   "metadata": {},
   "outputs": [],
   "source": [
    "import os\n",
    "import numpy as np\n",
    "from collections import OrderedDict\n",
    "import json\n",
    "from tqdm import tqdm\n",
    "\n",
    "query_feature_A_dir = '/nfs3-p2/zsxm/naic/preliminary/test_A/query_feature_A'\n",
    "gallery_feature_A_dir = '/nfs3-p2/zsxm/naic/preliminary/test_A/gallery_feature_A'"
   ]
  },
  {
   "cell_type": "code",
   "execution_count": null,
   "id": "7239e367",
   "metadata": {},
   "outputs": [],
   "source": [
    "query_feature_A = []\n",
    "for data in sorted(os.listdir(query_feature_A_dir)):\n",
    "    query_feature_A.append(np.fromfile(os.path.join(query_feature_A_dir, data), dtype='<f4'))\n",
    "query_feature_A = np.stack(query_feature_A)\n",
    "gallery_feature_A = []\n",
    "for data in sorted(os.listdir(gallery_feature_A_dir)):\n",
    "    gallery_feature_A.append(np.fromfile(os.path.join(gallery_feature_A_dir, data), dtype='<f4'))\n",
    "gallery_feature_A = np.stack(gallery_feature_A)\n",
    "print(query_feature_A.shape, gallery_feature_A.shape)\n",
    "qfs = query_feature_A.sum(axis=0)\n",
    "nqfs = np.arange(2048)[qfs!=0]\n",
    "print(nqfs.shape, nqfs)\n",
    "gfs = gallery_feature_A.sum(axis=0)\n",
    "ngfs = np.arange(2048)[gfs!=0]\n",
    "print(ngfs.shape, ngfs)\n",
    "print((nqfs==ngfs).all)\n",
    "query_reshape_A = query_feature_A[:, qfs!=0]\n",
    "gallery_reshape_A = gallery_feature_A[:, gfs!=0]\n",
    "print(query_reshape_A.shape, gallery_reshape_A.shape)\n",
    "np.save('/nfs3-p2/zsxm/naic/preliminary/test_A/query_feature_A.npy', query_feature_A)\n",
    "np.save('/nfs3-p2/zsxm/naic/preliminary/test_A/gallery_feature_A.npy', gallery_feature_A)\n",
    "np.save('/nfs3-p2/zsxm/naic/preliminary/test_A/query_reshape_A.npy', query_reshape_A)\n",
    "np.save('/nfs3-p2/zsxm/naic/preliminary/test_A/gallery_reshape_A.npy', gallery_reshape_A)"
   ]
  },
  {
   "cell_type": "code",
   "execution_count": 2,
   "id": "fdd032e7",
   "metadata": {},
   "outputs": [],
   "source": [
    "query_reshape_A = np.load('/nfs3-p2/zsxm/naic/preliminary/test_A/query_reshape_A.npy')\n",
    "gallery_reshape_A = np.load('/nfs3-p2/zsxm/naic/preliminary/test_A/gallery_reshape_A.npy')"
   ]
  },
  {
   "cell_type": "code",
   "execution_count": 3,
   "id": "aa64e044",
   "metadata": {},
   "outputs": [],
   "source": [
    "from re_ranking.re_ranking_feature import re_ranking"
   ]
  },
  {
   "cell_type": "code",
   "execution_count": 6,
   "id": "db88d2cf",
   "metadata": {},
   "outputs": [
    {
     "name": "stdout",
     "output_type": "stream",
     "text": [
      "computing original distance\n"
     ]
    },
    {
     "ename": "MemoryError",
     "evalue": "Unable to allocate 375. GiB for an array with shape (448794, 448794) and data type float16",
     "output_type": "error",
     "traceback": [
      "\u001b[0;31m---------------------------------------------------------------------------\u001b[0m",
      "\u001b[0;31mMemoryError\u001b[0m                               Traceback (most recent call last)",
      "\u001b[0;32m<ipython-input-6-741c31fea61f>\u001b[0m in \u001b[0;36m<module>\u001b[0;34m\u001b[0m\n\u001b[0;32m----> 1\u001b[0;31m \u001b[0mre_ranking\u001b[0m\u001b[0;34m(\u001b[0m\u001b[0mquery_reshape_A\u001b[0m\u001b[0;34m,\u001b[0m \u001b[0mgallery_reshape_A\u001b[0m\u001b[0;34m,\u001b[0m \u001b[0;36m100\u001b[0m\u001b[0;34m,\u001b[0m \u001b[0;36m30\u001b[0m\u001b[0;34m,\u001b[0m \u001b[0;36m0.3\u001b[0m\u001b[0;34m,\u001b[0m \u001b[0mMemorySave\u001b[0m\u001b[0;34m=\u001b[0m\u001b[0;32mTrue\u001b[0m\u001b[0;34m,\u001b[0m \u001b[0mMinibatch\u001b[0m\u001b[0;34m=\u001b[0m\u001b[0;36m200\u001b[0m\u001b[0;34m)\u001b[0m\u001b[0;34m\u001b[0m\u001b[0;34m\u001b[0m\u001b[0m\n\u001b[0m",
      "\u001b[0;32m~/pythonWorkspace/NAIC/re_ranking/re_ranking_feature.py\u001b[0m in \u001b[0;36mre_ranking\u001b[0;34m(probFea, galFea, k1, k2, lambda_value, MemorySave, Minibatch)\u001b[0m\n\u001b[1;32m     33\u001b[0m     \u001b[0mprint\u001b[0m\u001b[0;34m(\u001b[0m\u001b[0;34m'computing original distance'\u001b[0m\u001b[0;34m)\u001b[0m\u001b[0;34m\u001b[0m\u001b[0;34m\u001b[0m\u001b[0m\n\u001b[1;32m     34\u001b[0m     \u001b[0;32mif\u001b[0m \u001b[0mMemorySave\u001b[0m\u001b[0;34m:\u001b[0m\u001b[0;34m\u001b[0m\u001b[0;34m\u001b[0m\u001b[0m\n\u001b[0;32m---> 35\u001b[0;31m         \u001b[0moriginal_dist\u001b[0m \u001b[0;34m=\u001b[0m \u001b[0mnp\u001b[0m\u001b[0;34m.\u001b[0m\u001b[0mzeros\u001b[0m\u001b[0;34m(\u001b[0m\u001b[0mshape\u001b[0m \u001b[0;34m=\u001b[0m \u001b[0;34m[\u001b[0m\u001b[0mall_num\u001b[0m\u001b[0;34m,\u001b[0m\u001b[0mall_num\u001b[0m\u001b[0;34m]\u001b[0m\u001b[0;34m,\u001b[0m\u001b[0mdtype\u001b[0m \u001b[0;34m=\u001b[0m \u001b[0mnp\u001b[0m\u001b[0;34m.\u001b[0m\u001b[0mfloat16\u001b[0m\u001b[0;34m)\u001b[0m\u001b[0;34m\u001b[0m\u001b[0;34m\u001b[0m\u001b[0m\n\u001b[0m\u001b[1;32m     36\u001b[0m         \u001b[0mi\u001b[0m \u001b[0;34m=\u001b[0m \u001b[0;36m0\u001b[0m\u001b[0;34m\u001b[0m\u001b[0;34m\u001b[0m\u001b[0m\n\u001b[1;32m     37\u001b[0m         \u001b[0;32mwhile\u001b[0m \u001b[0;32mTrue\u001b[0m\u001b[0;34m:\u001b[0m\u001b[0;34m\u001b[0m\u001b[0;34m\u001b[0m\u001b[0m\n",
      "\u001b[0;31mMemoryError\u001b[0m: Unable to allocate 375. GiB for an array with shape (448794, 448794) and data type float16"
     ]
    }
   ],
   "source": [
    "re_ranking(query_reshape_A, gallery_reshape_A, 100, 30, 0.3, MemorySave=True, Minibatch=200)"
   ]
  },
  {
   "cell_type": "code",
   "execution_count": null,
   "id": "517a9c00",
   "metadata": {},
   "outputs": [],
   "source": []
  },
  {
   "cell_type": "code",
   "execution_count": null,
   "id": "1af3b8dd",
   "metadata": {},
   "outputs": [],
   "source": []
  },
  {
   "cell_type": "code",
   "execution_count": null,
   "id": "d72fcc53",
   "metadata": {},
   "outputs": [],
   "source": []
  },
  {
   "cell_type": "code",
   "execution_count": null,
   "id": "5d416c80",
   "metadata": {},
   "outputs": [],
   "source": []
  },
  {
   "cell_type": "code",
   "execution_count": null,
   "id": "13d0e5fb",
   "metadata": {},
   "outputs": [],
   "source": []
  },
  {
   "cell_type": "code",
   "execution_count": null,
   "id": "ddcb97e0",
   "metadata": {},
   "outputs": [],
   "source": []
  },
  {
   "cell_type": "code",
   "execution_count": null,
   "id": "603c3b44",
   "metadata": {},
   "outputs": [],
   "source": []
  },
  {
   "cell_type": "code",
   "execution_count": null,
   "id": "ca5646bc",
   "metadata": {},
   "outputs": [],
   "source": []
  },
  {
   "cell_type": "code",
   "execution_count": null,
   "id": "4a23a1b8",
   "metadata": {},
   "outputs": [],
   "source": []
  },
  {
   "cell_type": "code",
   "execution_count": null,
   "id": "73e76d98",
   "metadata": {},
   "outputs": [],
   "source": []
  },
  {
   "cell_type": "code",
   "execution_count": null,
   "id": "0d43e2ee",
   "metadata": {},
   "outputs": [],
   "source": []
  },
  {
   "cell_type": "code",
   "execution_count": null,
   "id": "a4a1ab5a",
   "metadata": {},
   "outputs": [],
   "source": []
  },
  {
   "cell_type": "code",
   "execution_count": null,
   "id": "efe11f88",
   "metadata": {},
   "outputs": [],
   "source": [
    "from datasets.preliminary_dataset import PreliminaryDataset, PreliminaryBatchSampler, preliminary_collate_fn\n",
    "import random\n",
    "from torch.utils.data import DataLoader"
   ]
  },
  {
   "cell_type": "code",
   "execution_count": null,
   "id": "21154f57",
   "metadata": {},
   "outputs": [],
   "source": [
    "dataset = PreliminaryDataset('/nfs3-p1/zsxm/naic/preliminary/train', False)"
   ]
  },
  {
   "cell_type": "code",
   "execution_count": null,
   "id": "facba8b9",
   "metadata": {},
   "outputs": [],
   "source": [
    "batchsampler = PreliminaryBatchSampler(dataset, 150)"
   ]
  },
  {
   "cell_type": "code",
   "execution_count": null,
   "id": "08b37518",
   "metadata": {},
   "outputs": [],
   "source": [
    "dataloader = DataLoader(dataset, batch_sampler=batchsampler, num_workers=8, collate_fn=preliminary_collate_fn, pin_memory=True)"
   ]
  },
  {
   "cell_type": "code",
   "execution_count": null,
   "id": "ae1b6d3d",
   "metadata": {
    "scrolled": true
   },
   "outputs": [],
   "source": [
    "random.seed(2)#2078\n",
    "test_count = 0\n",
    "while True:\n",
    "    batchs = []\n",
    "    t_batch = []\n",
    "    for i, b in enumerate(batchsampler):\n",
    "        #print(i, b)\n",
    "        batchs.append(b)\n",
    "        t_batch.extend(b)\n",
    "        b_len = 0\n",
    "        for idx in b:\n",
    "            b_len += dataset.idx2len[idx]\n",
    "        assert 0 < b_len <= batchsampler.batch_size, str(b_len)+str(b)+str(i)\n",
    "    assert len(t_batch) == 15000, len(t_batch)\n",
    "    t_batch_set = set(t_batch)\n",
    "    assert len(t_batch) == len(t_batch_set), len(t_batch_set)\n",
    "    test_count +=1\n",
    "    print(test_count)"
   ]
  },
  {
   "cell_type": "code",
   "execution_count": null,
   "id": "1225eaea",
   "metadata": {},
   "outputs": [],
   "source": [
    "count = 0\n",
    "for q, k, q_label, k_label in dataloader:\n",
    "    print(count)\n",
    "    print(q.shape)\n",
    "    print(k.shape)\n",
    "    print(q_label.shape)\n",
    "    print(k_label.shape)\n",
    "    count += 1"
   ]
  },
  {
   "cell_type": "code",
   "execution_count": null,
   "id": "50c5af37",
   "metadata": {},
   "outputs": [],
   "source": [
    "k_label"
   ]
  },
  {
   "cell_type": "code",
   "execution_count": null,
   "id": "28929f66",
   "metadata": {},
   "outputs": [],
   "source": []
  }
 ],
 "metadata": {
  "kernelspec": {
   "display_name": "Python 3",
   "language": "python",
   "name": "python3"
  },
  "language_info": {
   "codemirror_mode": {
    "name": "ipython",
    "version": 3
   },
   "file_extension": ".py",
   "mimetype": "text/x-python",
   "name": "python",
   "nbconvert_exporter": "python",
   "pygments_lexer": "ipython3",
   "version": "3.8.10"
  }
 },
 "nbformat": 4,
 "nbformat_minor": 5
}
