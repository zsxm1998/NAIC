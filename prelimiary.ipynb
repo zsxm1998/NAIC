{
 "cells": [
  {
   "cell_type": "code",
   "execution_count": 24,
   "id": "e0ce293e",
   "metadata": {},
   "outputs": [],
   "source": [
    "import os\n",
    "import numpy as np\n",
    "import torch\n",
    "from collections import OrderedDict\n",
    "import json\n",
    "\n",
    "os.environ['CUDA_VISIBLE_DEVICES'] = '1'\n",
    "device = torch.device('cuda:0' if torch.cuda.is_available() else 'cpu')"
   ]
  },
  {
   "cell_type": "code",
   "execution_count": 2,
   "id": "ca844334",
   "metadata": {},
   "outputs": [],
   "source": [
    "query_feature_A_dir = '/nfs3-p2/zsxm/naic/preliminary/test_A/query_feature_A'\n",
    "query_feature_A = []\n",
    "for data in sorted(os.listdir(query_feature_A_dir)):\n",
    "    query_feature_A.append(torch.from_numpy(np.fromfile(os.path.join(query_feature_A_dir, data), dtype='<f4')))\n",
    "query_feature_A = torch.stack(query_feature_A).to(device)"
   ]
  },
  {
   "cell_type": "code",
   "execution_count": 3,
   "id": "84b309e1",
   "metadata": {},
   "outputs": [],
   "source": [
    "gallery_feature_A_dir = '/nfs3-p2/zsxm/naic/preliminary/test_A/gallery_feature_A'\n",
    "gallery_feature_A = []\n",
    "for data in sorted(os.listdir(gallery_feature_A_dir)):\n",
    "    gallery_feature_A.append(torch.from_numpy(np.fromfile(os.path.join(gallery_feature_A_dir, data), dtype='<f4')))\n",
    "gallery_feature_A = torch.stack(gallery_feature_A).to(device)"
   ]
  },
  {
   "cell_type": "code",
   "execution_count": 4,
   "id": "c046755c",
   "metadata": {},
   "outputs": [
    {
     "name": "stdout",
     "output_type": "stream",
     "text": [
      "torch.Size([20000, 2048]) tensor([[ 0.0805,  0.0000,  0.0000,  ...,  0.0000,  0.0646,  0.0000],\n",
      "        [-0.2679,  0.0000,  0.0000,  ...,  0.0000, -0.2808,  0.0000],\n",
      "        [-0.3382,  0.0000,  0.0000,  ...,  0.0000,  0.0906,  0.0000],\n",
      "        ...,\n",
      "        [-0.2313,  0.0000,  0.0000,  ...,  0.0000, -0.4064,  0.0000],\n",
      "        [-0.1418,  0.0000,  0.0000,  ...,  0.0000,  0.0699,  0.0000],\n",
      "        [ 0.0150,  0.0000,  0.0000,  ...,  0.0000, -0.2349,  0.0000]],\n",
      "       device='cuda:0')\n",
      "torch.Size([428794, 2048]) tensor([[ 0.1381,  0.0000,  0.0000,  ...,  0.0000, -0.0197,  0.0000],\n",
      "        [-0.3590,  0.0000,  0.0000,  ...,  0.0000, -0.5844,  0.0000],\n",
      "        [-0.3214,  0.0000,  0.0000,  ...,  0.0000, -0.2519,  0.0000],\n",
      "        ...,\n",
      "        [-0.0717,  0.0000,  0.0000,  ...,  0.0000, -0.4211,  0.0000],\n",
      "        [-0.5035,  0.0000,  0.0000,  ...,  0.0000,  0.2123,  0.0000],\n",
      "        [-0.2045,  0.0000,  0.0000,  ...,  0.0000, -0.6521,  0.0000]],\n",
      "       device='cuda:0')\n"
     ]
    }
   ],
   "source": [
    "print(query_feature_A.shape, query_feature_A)\n",
    "print(gallery_feature_A.shape, gallery_feature_A)"
   ]
  },
  {
   "cell_type": "code",
   "execution_count": 12,
   "id": "030cb8be",
   "metadata": {},
   "outputs": [],
   "source": [
    "def cos_similarity(q, k):\n",
    "    try:\n",
    "        mm = torch.mm(q, k.T)\n",
    "        qn = torch.linalg.vector_norm(q, dim=1, keepdim=True)\n",
    "        kn = torch.linalg.vector_norm(k, dim=1, keepdim=True)\n",
    "        qk = torch.mm(qn, kn.T)\n",
    "        res = mm / qk\n",
    "    except RuntimeError:\n",
    "        q = q.cpu()\n",
    "        k = k.cpu()\n",
    "        mm = torch.mm(q, k.T)\n",
    "        qn = torch.linalg.vector_norm(q, dim=1, keepdim=True)\n",
    "        kn = torch.linalg.vector_norm(k, dim=1, keepdim=True)\n",
    "        qk = torch.mm(qn, kn.T)\n",
    "        res = mm / qk\n",
    "    return res"
   ]
  },
  {
   "cell_type": "code",
   "execution_count": 13,
   "id": "1748faf8",
   "metadata": {},
   "outputs": [],
   "source": [
    "res = cos_similarity(query_feature_A, gallery_feature_A)"
   ]
  },
  {
   "cell_type": "code",
   "execution_count": 14,
   "id": "98483ef1",
   "metadata": {},
   "outputs": [
    {
     "name": "stdout",
     "output_type": "stream",
     "text": [
      "torch.Size([20000, 428794])\n"
     ]
    }
   ],
   "source": [
    "print(res.shape)"
   ]
  },
  {
   "cell_type": "code",
   "execution_count": 22,
   "id": "5077ae41",
   "metadata": {},
   "outputs": [],
   "source": [
    "res_dict = {}\n",
    "query_names = sorted(os.listdir(query_feature_A_dir))\n",
    "gallery_names = sorted(os.listdir(gallery_feature_A_dir))\n",
    "for i, name in enumerate(query_names):\n",
    "    idx = torch.argsort(res[i], dim=-1, descending=True)\n",
    "    query_res = []\n",
    "    for j in range(100):\n",
    "        query_res.append(gallery_names[idx[j]])\n",
    "    res_dict[name] = query_res"
   ]
  },
  {
   "cell_type": "code",
   "execution_count": 25,
   "id": "c44dbb14",
   "metadata": {},
   "outputs": [],
   "source": [
    "with open('./sub_a.json', 'w') as f:\n",
    "    json.dump(res_dict, f)"
   ]
  },
  {
   "cell_type": "code",
   "execution_count": null,
   "id": "e516dc84",
   "metadata": {},
   "outputs": [],
   "source": []
  }
 ],
 "metadata": {
  "kernelspec": {
   "display_name": "Python 3",
   "language": "python",
   "name": "python3"
  },
  "language_info": {
   "codemirror_mode": {
    "name": "ipython",
    "version": 3
   },
   "file_extension": ".py",
   "mimetype": "text/x-python",
   "name": "python",
   "nbconvert_exporter": "python",
   "pygments_lexer": "ipython3",
   "version": "3.8.10"
  }
 },
 "nbformat": 4,
 "nbformat_minor": 5
}
